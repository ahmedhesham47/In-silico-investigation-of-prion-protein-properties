{
  "nbformat": 4,
  "nbformat_minor": 0,
  "metadata": {
    "colab": {
      "provenance": [],
      "collapsed_sections": [
        "7CAta6nug1Yo",
        "ya6ozdlRJKgE",
        "XR-mHGWmyheg",
        "idczImXRhXOn",
        "IiYxp9UfhcsT",
        "-NxIpTvL4Tcq",
        "K8aK6W-pLyNn",
        "OLmxOuBNnoGh",
        "fzrjf6emDUf6",
        "ISggqIMk7hfS",
        "qV9OozYSSNeO",
        "jG_ZEinJ62QC",
        "OEpU5C1_sLkh"
      ]
    },
    "kernelspec": {
      "name": "python3",
      "display_name": "Python 3"
    },
    "language_info": {
      "name": "python"
    }
  },
  "cells": [
    {
      "cell_type": "code",
      "execution_count": null,
      "metadata": {
        "colab": {
          "base_uri": "https://localhost:8080/"
        },
        "id": "15-t2VxVwz3J",
        "outputId": "133b1353-4a6b-4f98-da23-106839944e74"
      },
      "outputs": [
        {
          "output_type": "stream",
          "name": "stdout",
          "text": [
            "Mounted at /content/drive\n"
          ]
        }
      ],
      "source": [
        "from google.colab import drive\n",
        "drive.mount(\"/content/drive\")"
      ]
    },
    {
      "cell_type": "code",
      "source": [
        "import pandas as pd\n",
        "import numpy as np\n",
        "import matplotlib.pyplot as plt\n",
        "import seaborn as sns\n",
        "import re\n",
        "!pip install biopython\n",
        "from Bio import SeqIO\n",
        "from Bio.Seq import Seq\n",
        "import os\n",
        "from scipy.stats import shapiro, normaltest, mannwhitneyu, pearsonr\n",
        "from Bio.Data import CodonTable\n",
        "import itertools"
      ],
      "metadata": {
        "id": "IBitgh9ODI7j",
        "colab": {
          "base_uri": "https://localhost:8080/"
        },
        "outputId": "65f6a271-51a6-4095-8abe-a5266fe74738"
      },
      "execution_count": null,
      "outputs": [
        {
          "output_type": "stream",
          "name": "stdout",
          "text": [
            "Collecting biopython\n",
            "  Downloading biopython-1.85-cp311-cp311-manylinux_2_17_x86_64.manylinux2014_x86_64.whl.metadata (13 kB)\n",
            "Requirement already satisfied: numpy in /usr/local/lib/python3.11/dist-packages (from biopython) (1.26.4)\n",
            "Downloading biopython-1.85-cp311-cp311-manylinux_2_17_x86_64.manylinux2014_x86_64.whl (3.3 MB)\n",
            "\u001b[2K   \u001b[90m━━━━━━━━━━━━━━━━━━━━━━━━━━━━━━━━━━━━━━━━\u001b[0m \u001b[32m3.3/3.3 MB\u001b[0m \u001b[31m17.3 MB/s\u001b[0m eta \u001b[36m0:00:00\u001b[0m\n",
            "\u001b[?25hInstalling collected packages: biopython\n",
            "Successfully installed biopython-1.85\n"
          ]
        }
      ]
    },
    {
      "cell_type": "code",
      "source": [
        "prion_non_prion_df = pd.read_csv('/content/drive/MyDrive/Lin Chen Rotation/prion_vs_non_prion_df.tsv', sep='\\t')\n",
        "\n",
        "prion_seqs = pd.read_csv('/content/drive/MyDrive/Lin Chen Rotation/full_length_prion_seqs.tsv', sep='\\t')\n",
        "prion_seqs.drop([2, 3, 5, 13, 15], inplace=True) # dropping SNT1, RBS1, PSP1, AZF1, and VTS1 (indices 2, 3, 5, 13, and 15)\n",
        "prion_seqs.reset_index(inplace=True, drop=True)\n",
        "\n",
        "PrD_prions_df = pd.read_csv('/content/drive/MyDrive/Lin Chen Rotation/PrD_prions_df.tsv', sep='\\t')\n",
        "non_PrD_prions_df = pd.read_csv('/content/drive/MyDrive/Lin Chen Rotation/non_PrD_prions_df.tsv', sep='\\t')\n",
        "\n",
        "prd_sequences = pd.read_csv('/content/drive/MyDrive/Lin Chen Rotation/prion_forming_domains_sequences.tsv', sep='\\t')\n",
        "non_prd_sequences = pd.read_csv('/content/drive/MyDrive/Lin Chen Rotation/non_prion_forming_domains_sequences.tsv', sep='\\t')"
      ],
      "metadata": {
        "id": "JLa-5nvlpYTw"
      },
      "execution_count": null,
      "outputs": []
    },
    {
      "cell_type": "markdown",
      "source": [
        "# Separating Prion sequences into PrD and non-PrD"
      ],
      "metadata": {
        "id": "7CAta6nug1Yo"
      }
    },
    {
      "cell_type": "code",
      "source": [
        "def add_prd_non_prd(df, split_positions):\n",
        "\n",
        "    df = df.copy()\n",
        "\n",
        "    prd_prot_col, non_prd_prot_col = [], []\n",
        "    prd_dna_col, non_prd_dna_col = [], []\n",
        "\n",
        "    for _, row in df.iterrows():\n",
        "        gene_name = row[\"Gene Name\"]\n",
        "        protein_seq = row[\"Protein Sequence\"]\n",
        "        gene_seq = row['Sequence']\n",
        "\n",
        "        start_aa, end_aa = map(int, split_positions[gene_name].split('-'))\n",
        "        start_nt = (start_aa - 1) * 3 + 1\n",
        "        end_nt = end_aa * 3\n",
        "\n",
        "        if end_aa == len(protein_seq):\n",
        "            end_nt += 3  # Include the stop codon\n",
        "\n",
        "        prd_prot_seq = protein_seq[start_aa-1:end_aa]\n",
        "        non_prd_prot_seq = protein_seq[:start_aa-1] + protein_seq[end_aa:]\n",
        "\n",
        "        prd_dna_seq = gene_seq[start_nt-1:end_nt]\n",
        "        non_prd_dna_seq = gene_seq[:start_nt-1] + gene_seq[end_nt:]\n",
        "\n",
        "        prd_prot_col.append(prd_prot_seq)\n",
        "        non_prd_prot_col.append(non_prd_prot_seq)\n",
        "\n",
        "        prd_dna_col.append(prd_dna_seq)\n",
        "        non_prd_dna_col.append(non_prd_dna_seq)\n",
        "\n",
        "    df[\"PrD Protein Sequence\"] = prd_prot_col\n",
        "    df[\"non-PrD Protein Sequence\"] = non_prd_prot_col\n",
        "\n",
        "    df[\"PrD DNA Sequence\"] = prd_dna_col\n",
        "    df[\"non-PrD DNA Sequence\"] = non_prd_dna_col\n",
        "\n",
        "    return df\n",
        "\n",
        "split_positions = split_positions = {\n",
        "    \"SUP35\": \"1-135\",\n",
        "    \"CYC8\": \"443-682\",\n",
        "    \"RNQ1\": \"153-405\",\n",
        "    \"URE2\": '1-89',\n",
        "    \"NEW1\": '1-153',\n",
        "    'SWI1': '1-323',\n",
        "    'MOD5': '194-215',\n",
        "    'MOT3': '1-295',\n",
        "    'GLN3': '166-242',\n",
        "    'SFP1': '230-458',\n",
        "    'SKY1': '353-491',\n",
        "    'PUB1': '290-386',\n",
        "    'PIN2': '221-282',\n",
        "    # 'AZF1': '1-300',\n",
        "    # 'VTS1': '1-420',\n",
        "    # 'SNT1': '1-1226',\n",
        "    # 'RBS1': '260-400',\n",
        "    # 'PSP1': '50-400'\n",
        "}\n",
        "separated_prion_domains = add_prd_non_prd(prion_seqs, split_positions)\n",
        "prion_forming_domains = separated_prion_domains.drop(columns=['Sequence', 'Protein Sequence', 'non-PrD Protein Sequence', 'non-PrD DNA Sequence'])\n",
        "non_prion_forming_domains = separated_prion_domains.drop(columns=['Sequence', 'Protein Sequence', 'PrD Protein Sequence', 'PrD DNA Sequence'])\n",
        "prion_forming_domains.rename(columns={'PrD Protein Sequence': 'Protein Sequence', 'PrD DNA Sequence': 'Sequence'}, inplace=True)\n",
        "non_prion_forming_domains.rename(columns={'non-PrD Protein Sequence': 'Protein Sequence', 'non-PrD DNA Sequence': 'Sequence'}, inplace=True)"
      ],
      "metadata": {
        "id": "Wyjb2V-Ag5zg"
      },
      "execution_count": null,
      "outputs": []
    },
    {
      "cell_type": "markdown",
      "source": [
        "# Parsing the fasta file and converting it into a dataframe that is easy to work with."
      ],
      "metadata": {
        "id": "ya6ozdlRJKgE"
      }
    },
    {
      "cell_type": "code",
      "source": [
        "fasta_path = '/content/drive/MyDrive/Lin Chen Rotation/orf_coding_all_R64-4-1_20230830.fasta'\n",
        "\n",
        "data = []\n",
        "\n",
        "fasta_file = open(fasta_path, 'r')\n",
        "for record in SeqIO.parse(fasta_file, 'fasta'):\n",
        "    record_id = record.id\n",
        "    prion_or_non_prion_info = record.description\n",
        "    gene_info = record.description.split(',')\n",
        "    sequence = str(record.seq)\n",
        "    gene_name = gene_info[0].split(' ')[1]\n",
        "    orf_types = ['Dubious ORF', 'Uncharacterized ORF', 'Verified ORF']\n",
        "    orf_type = None\n",
        "    for item in gene_info:\n",
        "      match = re.search(rf'\\b({\"|\".join(orf_types)})\\b', item, re.IGNORECASE)\n",
        "      if match:\n",
        "        orf_type = match.group(0)\n",
        "        break\n",
        "\n",
        "    data.append([record_id, gene_name, orf_type, prion_or_non_prion_info, sequence])\n",
        "\n",
        "df = pd.DataFrame(data, columns=['ID', 'Gene Name', 'ORF', 'Prion Formation', 'Sequence'])\n",
        "df = df[df['ORF'] == 'Verified ORF'] # Filter anything that's not a verified ORF\n",
        "# print(df['ORF'].value_counts()) # we have 5254 verified ORFs, 684 Dubious ORFs, and 669 Uncharacterized ORFs\n",
        "df['Prion Formation'] = df['Prion Formation'].apply(lambda x: 1 if \"+]\" in x else 0)\n",
        "prion_genes_not_caught_by_plus_symbol = ['SUP35', 'GLN3', 'YLR278C', 'SKY1', 'URE2', 'PUB1', 'MOD5']\n",
        "false_prion_genes_caught_by_plus_symbol = ['PIN3', 'PMA1', 'HSP104']\n",
        "df.loc[df['Gene Name'].isin(prion_genes_not_caught_by_plus_symbol), 'Prion Formation'] = 1\n",
        "df.loc[df['Gene Name'].isin(false_prion_genes_caught_by_plus_symbol), 'Prion Formation'] = 0\n",
        "\n",
        "def validate_sequence(seq):\n",
        "    divisible_by_3 = len(seq) % 3 == 0\n",
        "\n",
        "    starts_with_atg = seq.startswith('ATG')\n",
        "\n",
        "    ends_with_valid_codon = seq.endswith(('TAA', 'TAG', 'TGA'))\n",
        "\n",
        "    return divisible_by_3 and starts_with_atg and ends_with_valid_codon\n",
        "\n",
        "all_valid = df['Sequence'].apply(validate_sequence).all()\n",
        "\n",
        "if all_valid:\n",
        "    print(\"All sequences are valid!\")\n",
        "else:\n",
        "    print(\"Some sequences are invalid.\")\n",
        "# We ensure that all sequences are valid!"
      ],
      "metadata": {
        "colab": {
          "base_uri": "https://localhost:8080/"
        },
        "id": "IXNOy5jZEDUy",
        "outputId": "9074a1ed-727e-4db0-dcb8-840f3982800d"
      },
      "execution_count": null,
      "outputs": [
        {
          "output_type": "stream",
          "name": "stdout",
          "text": [
            "All sequences are valid!\n"
          ]
        }
      ]
    },
    {
      "cell_type": "code",
      "source": [
        "df.head()"
      ],
      "metadata": {
        "colab": {
          "base_uri": "https://localhost:8080/"
        },
        "id": "eokkCPL6OXrZ",
        "outputId": "0cecc7ad-6a02-4b92-c258-9106d05307cc"
      },
      "execution_count": null,
      "outputs": [
        {
          "output_type": "execute_result",
          "data": {
            "text/plain": [
              "         ID Gene Name           ORF  Prion Formation  \\\n",
              "2   YAL068C      PAU8  Verified ORF                0   \n",
              "4   YAL067C      SEO1  Verified ORF                0   \n",
              "9   YAL064W   YAL064W  Verified ORF                0   \n",
              "11  YAL063C      FLO9  Verified ORF                0   \n",
              "12  YAL062W      GDH3  Verified ORF                0   \n",
              "\n",
              "                                             Sequence  \n",
              "2   ATGGTCAAATTAACTTCAATCGCCGCTGGTGTCGCTGCCATCGCTG...  \n",
              "4   ATGTATTCAATTGTTAAAGAGATTATTGTAGATCCTTACAAAAGAC...  \n",
              "9   ATGAATCCTTTTGCATCGCTAGAAGGACAAGATAATATTTCTTCTG...  \n",
              "11  ATGTCTCTGGCACATTATTGTTTACTACTAGCCATCGTCACATTGC...  \n",
              "12  ATGACAAGCGAACCAGAGTTTCAGCAGGCTTACGATGAGATCGTTT...  "
            ],
            "text/html": [
              "\n",
              "  <div id=\"df-379fccc9-e978-4326-82f2-6e95f343f834\" class=\"colab-df-container\">\n",
              "    <div>\n",
              "<style scoped>\n",
              "    .dataframe tbody tr th:only-of-type {\n",
              "        vertical-align: middle;\n",
              "    }\n",
              "\n",
              "    .dataframe tbody tr th {\n",
              "        vertical-align: top;\n",
              "    }\n",
              "\n",
              "    .dataframe thead th {\n",
              "        text-align: right;\n",
              "    }\n",
              "</style>\n",
              "<table border=\"1\" class=\"dataframe\">\n",
              "  <thead>\n",
              "    <tr style=\"text-align: right;\">\n",
              "      <th></th>\n",
              "      <th>ID</th>\n",
              "      <th>Gene Name</th>\n",
              "      <th>ORF</th>\n",
              "      <th>Prion Formation</th>\n",
              "      <th>Sequence</th>\n",
              "    </tr>\n",
              "  </thead>\n",
              "  <tbody>\n",
              "    <tr>\n",
              "      <th>2</th>\n",
              "      <td>YAL068C</td>\n",
              "      <td>PAU8</td>\n",
              "      <td>Verified ORF</td>\n",
              "      <td>0</td>\n",
              "      <td>ATGGTCAAATTAACTTCAATCGCCGCTGGTGTCGCTGCCATCGCTG...</td>\n",
              "    </tr>\n",
              "    <tr>\n",
              "      <th>4</th>\n",
              "      <td>YAL067C</td>\n",
              "      <td>SEO1</td>\n",
              "      <td>Verified ORF</td>\n",
              "      <td>0</td>\n",
              "      <td>ATGTATTCAATTGTTAAAGAGATTATTGTAGATCCTTACAAAAGAC...</td>\n",
              "    </tr>\n",
              "    <tr>\n",
              "      <th>9</th>\n",
              "      <td>YAL064W</td>\n",
              "      <td>YAL064W</td>\n",
              "      <td>Verified ORF</td>\n",
              "      <td>0</td>\n",
              "      <td>ATGAATCCTTTTGCATCGCTAGAAGGACAAGATAATATTTCTTCTG...</td>\n",
              "    </tr>\n",
              "    <tr>\n",
              "      <th>11</th>\n",
              "      <td>YAL063C</td>\n",
              "      <td>FLO9</td>\n",
              "      <td>Verified ORF</td>\n",
              "      <td>0</td>\n",
              "      <td>ATGTCTCTGGCACATTATTGTTTACTACTAGCCATCGTCACATTGC...</td>\n",
              "    </tr>\n",
              "    <tr>\n",
              "      <th>12</th>\n",
              "      <td>YAL062W</td>\n",
              "      <td>GDH3</td>\n",
              "      <td>Verified ORF</td>\n",
              "      <td>0</td>\n",
              "      <td>ATGACAAGCGAACCAGAGTTTCAGCAGGCTTACGATGAGATCGTTT...</td>\n",
              "    </tr>\n",
              "  </tbody>\n",
              "</table>\n",
              "</div>\n",
              "    <div class=\"colab-df-buttons\">\n",
              "\n",
              "  <div class=\"colab-df-container\">\n",
              "    <button class=\"colab-df-convert\" onclick=\"convertToInteractive('df-379fccc9-e978-4326-82f2-6e95f343f834')\"\n",
              "            title=\"Convert this dataframe to an interactive table.\"\n",
              "            style=\"display:none;\">\n",
              "\n",
              "  <svg xmlns=\"http://www.w3.org/2000/svg\" height=\"24px\" viewBox=\"0 -960 960 960\">\n",
              "    <path d=\"M120-120v-720h720v720H120Zm60-500h600v-160H180v160Zm220 220h160v-160H400v160Zm0 220h160v-160H400v160ZM180-400h160v-160H180v160Zm440 0h160v-160H620v160ZM180-180h160v-160H180v160Zm440 0h160v-160H620v160Z\"/>\n",
              "  </svg>\n",
              "    </button>\n",
              "\n",
              "  <style>\n",
              "    .colab-df-container {\n",
              "      display:flex;\n",
              "      gap: 12px;\n",
              "    }\n",
              "\n",
              "    .colab-df-convert {\n",
              "      background-color: #E8F0FE;\n",
              "      border: none;\n",
              "      border-radius: 50%;\n",
              "      cursor: pointer;\n",
              "      display: none;\n",
              "      fill: #1967D2;\n",
              "      height: 32px;\n",
              "      padding: 0 0 0 0;\n",
              "      width: 32px;\n",
              "    }\n",
              "\n",
              "    .colab-df-convert:hover {\n",
              "      background-color: #E2EBFA;\n",
              "      box-shadow: 0px 1px 2px rgba(60, 64, 67, 0.3), 0px 1px 3px 1px rgba(60, 64, 67, 0.15);\n",
              "      fill: #174EA6;\n",
              "    }\n",
              "\n",
              "    .colab-df-buttons div {\n",
              "      margin-bottom: 4px;\n",
              "    }\n",
              "\n",
              "    [theme=dark] .colab-df-convert {\n",
              "      background-color: #3B4455;\n",
              "      fill: #D2E3FC;\n",
              "    }\n",
              "\n",
              "    [theme=dark] .colab-df-convert:hover {\n",
              "      background-color: #434B5C;\n",
              "      box-shadow: 0px 1px 3px 1px rgba(0, 0, 0, 0.15);\n",
              "      filter: drop-shadow(0px 1px 2px rgba(0, 0, 0, 0.3));\n",
              "      fill: #FFFFFF;\n",
              "    }\n",
              "  </style>\n",
              "\n",
              "    <script>\n",
              "      const buttonEl =\n",
              "        document.querySelector('#df-379fccc9-e978-4326-82f2-6e95f343f834 button.colab-df-convert');\n",
              "      buttonEl.style.display =\n",
              "        google.colab.kernel.accessAllowed ? 'block' : 'none';\n",
              "\n",
              "      async function convertToInteractive(key) {\n",
              "        const element = document.querySelector('#df-379fccc9-e978-4326-82f2-6e95f343f834');\n",
              "        const dataTable =\n",
              "          await google.colab.kernel.invokeFunction('convertToInteractive',\n",
              "                                                    [key], {});\n",
              "        if (!dataTable) return;\n",
              "\n",
              "        const docLinkHtml = 'Like what you see? Visit the ' +\n",
              "          '<a target=\"_blank\" href=https://colab.research.google.com/notebooks/data_table.ipynb>data table notebook</a>'\n",
              "          + ' to learn more about interactive tables.';\n",
              "        element.innerHTML = '';\n",
              "        dataTable['output_type'] = 'display_data';\n",
              "        await google.colab.output.renderOutput(dataTable, element);\n",
              "        const docLink = document.createElement('div');\n",
              "        docLink.innerHTML = docLinkHtml;\n",
              "        element.appendChild(docLink);\n",
              "      }\n",
              "    </script>\n",
              "  </div>\n",
              "\n",
              "\n",
              "<div id=\"df-6e84372f-7713-4d66-9c1a-5663ef219f1b\">\n",
              "  <button class=\"colab-df-quickchart\" onclick=\"quickchart('df-6e84372f-7713-4d66-9c1a-5663ef219f1b')\"\n",
              "            title=\"Suggest charts\"\n",
              "            style=\"display:none;\">\n",
              "\n",
              "<svg xmlns=\"http://www.w3.org/2000/svg\" height=\"24px\"viewBox=\"0 0 24 24\"\n",
              "     width=\"24px\">\n",
              "    <g>\n",
              "        <path d=\"M19 3H5c-1.1 0-2 .9-2 2v14c0 1.1.9 2 2 2h14c1.1 0 2-.9 2-2V5c0-1.1-.9-2-2-2zM9 17H7v-7h2v7zm4 0h-2V7h2v10zm4 0h-2v-4h2v4z\"/>\n",
              "    </g>\n",
              "</svg>\n",
              "  </button>\n",
              "\n",
              "<style>\n",
              "  .colab-df-quickchart {\n",
              "      --bg-color: #E8F0FE;\n",
              "      --fill-color: #1967D2;\n",
              "      --hover-bg-color: #E2EBFA;\n",
              "      --hover-fill-color: #174EA6;\n",
              "      --disabled-fill-color: #AAA;\n",
              "      --disabled-bg-color: #DDD;\n",
              "  }\n",
              "\n",
              "  [theme=dark] .colab-df-quickchart {\n",
              "      --bg-color: #3B4455;\n",
              "      --fill-color: #D2E3FC;\n",
              "      --hover-bg-color: #434B5C;\n",
              "      --hover-fill-color: #FFFFFF;\n",
              "      --disabled-bg-color: #3B4455;\n",
              "      --disabled-fill-color: #666;\n",
              "  }\n",
              "\n",
              "  .colab-df-quickchart {\n",
              "    background-color: var(--bg-color);\n",
              "    border: none;\n",
              "    border-radius: 50%;\n",
              "    cursor: pointer;\n",
              "    display: none;\n",
              "    fill: var(--fill-color);\n",
              "    height: 32px;\n",
              "    padding: 0;\n",
              "    width: 32px;\n",
              "  }\n",
              "\n",
              "  .colab-df-quickchart:hover {\n",
              "    background-color: var(--hover-bg-color);\n",
              "    box-shadow: 0 1px 2px rgba(60, 64, 67, 0.3), 0 1px 3px 1px rgba(60, 64, 67, 0.15);\n",
              "    fill: var(--button-hover-fill-color);\n",
              "  }\n",
              "\n",
              "  .colab-df-quickchart-complete:disabled,\n",
              "  .colab-df-quickchart-complete:disabled:hover {\n",
              "    background-color: var(--disabled-bg-color);\n",
              "    fill: var(--disabled-fill-color);\n",
              "    box-shadow: none;\n",
              "  }\n",
              "\n",
              "  .colab-df-spinner {\n",
              "    border: 2px solid var(--fill-color);\n",
              "    border-color: transparent;\n",
              "    border-bottom-color: var(--fill-color);\n",
              "    animation:\n",
              "      spin 1s steps(1) infinite;\n",
              "  }\n",
              "\n",
              "  @keyframes spin {\n",
              "    0% {\n",
              "      border-color: transparent;\n",
              "      border-bottom-color: var(--fill-color);\n",
              "      border-left-color: var(--fill-color);\n",
              "    }\n",
              "    20% {\n",
              "      border-color: transparent;\n",
              "      border-left-color: var(--fill-color);\n",
              "      border-top-color: var(--fill-color);\n",
              "    }\n",
              "    30% {\n",
              "      border-color: transparent;\n",
              "      border-left-color: var(--fill-color);\n",
              "      border-top-color: var(--fill-color);\n",
              "      border-right-color: var(--fill-color);\n",
              "    }\n",
              "    40% {\n",
              "      border-color: transparent;\n",
              "      border-right-color: var(--fill-color);\n",
              "      border-top-color: var(--fill-color);\n",
              "    }\n",
              "    60% {\n",
              "      border-color: transparent;\n",
              "      border-right-color: var(--fill-color);\n",
              "    }\n",
              "    80% {\n",
              "      border-color: transparent;\n",
              "      border-right-color: var(--fill-color);\n",
              "      border-bottom-color: var(--fill-color);\n",
              "    }\n",
              "    90% {\n",
              "      border-color: transparent;\n",
              "      border-bottom-color: var(--fill-color);\n",
              "    }\n",
              "  }\n",
              "</style>\n",
              "\n",
              "  <script>\n",
              "    async function quickchart(key) {\n",
              "      const quickchartButtonEl =\n",
              "        document.querySelector('#' + key + ' button');\n",
              "      quickchartButtonEl.disabled = true;  // To prevent multiple clicks.\n",
              "      quickchartButtonEl.classList.add('colab-df-spinner');\n",
              "      try {\n",
              "        const charts = await google.colab.kernel.invokeFunction(\n",
              "            'suggestCharts', [key], {});\n",
              "      } catch (error) {\n",
              "        console.error('Error during call to suggestCharts:', error);\n",
              "      }\n",
              "      quickchartButtonEl.classList.remove('colab-df-spinner');\n",
              "      quickchartButtonEl.classList.add('colab-df-quickchart-complete');\n",
              "    }\n",
              "    (() => {\n",
              "      let quickchartButtonEl =\n",
              "        document.querySelector('#df-6e84372f-7713-4d66-9c1a-5663ef219f1b button');\n",
              "      quickchartButtonEl.style.display =\n",
              "        google.colab.kernel.accessAllowed ? 'block' : 'none';\n",
              "    })();\n",
              "  </script>\n",
              "</div>\n",
              "\n",
              "    </div>\n",
              "  </div>\n"
            ],
            "application/vnd.google.colaboratory.intrinsic+json": {
              "type": "dataframe",
              "variable_name": "df",
              "summary": "{\n  \"name\": \"df\",\n  \"rows\": 5254,\n  \"fields\": [\n    {\n      \"column\": \"ID\",\n      \"properties\": {\n        \"dtype\": \"string\",\n        \"num_unique_values\": 5254,\n        \"samples\": [\n          \"YHL032C\",\n          \"YNL214W\",\n          \"YML052W\"\n        ],\n        \"semantic_type\": \"\",\n        \"description\": \"\"\n      }\n    },\n    {\n      \"column\": \"Gene Name\",\n      \"properties\": {\n        \"dtype\": \"string\",\n        \"num_unique_values\": 5254,\n        \"samples\": [\n          \"GUT1\",\n          \"PEX17\",\n          \"SUR7\"\n        ],\n        \"semantic_type\": \"\",\n        \"description\": \"\"\n      }\n    },\n    {\n      \"column\": \"ORF\",\n      \"properties\": {\n        \"dtype\": \"category\",\n        \"num_unique_values\": 1,\n        \"samples\": [\n          \"Verified ORF\"\n        ],\n        \"semantic_type\": \"\",\n        \"description\": \"\"\n      }\n    },\n    {\n      \"column\": \"Prion Formation\",\n      \"properties\": {\n        \"dtype\": \"number\",\n        \"std\": 0,\n        \"min\": 0,\n        \"max\": 1,\n        \"num_unique_values\": 2,\n        \"samples\": [\n          1\n        ],\n        \"semantic_type\": \"\",\n        \"description\": \"\"\n      }\n    },\n    {\n      \"column\": \"Sequence\",\n      \"properties\": {\n        \"dtype\": \"string\",\n        \"num_unique_values\": 5240,\n        \"samples\": [\n          \"ATGTCCGTTGAAGAAGTTAGCAAGAAGTTTGAAGAAAACGTTTCAGTCGATGATACCACAGCTACTCCAAAGACTGTTTTAAGTGACAGTGCTCACTTCGATGTCAAGCACCCATTGAACACCAAATGGACTTTATGGTACACAAAGCCAGCCGTCGATAAATCTGAGTCGTGGTCTGATCTATTACGTCCCGTCACTTCATTCCAAACTGTTGAAGAATTTTGGGCTATCATTCAAAATATTCCTGAGCCACACGAACTACCATTGAAATCAGATTACCACGTCTTCCGTAATGACGTTAGACCTGAATGGGAAGATGAAGCCAATGCTAAAGGTGGTAAATGGTCTTTCCAACTTAGAGGAAAAGGTGCTGATATTGATGAATTATGGCTAAGAACTTTACTAGCAGTTATTGGTGAAACAATTGATGAAGACGACTCCCAAATTAACGGTGTCGTTTTAAGCATTAGAAAAGGTGGTAACAAGTTTGCCTTATGGACTAAATCTGAAGACAAAGAACCACTATTGAGAATTGGTGGTAAATTCAAGCAAGTTTTAAAATTAACCGATGACGGGCATTTGGAATTCTTTCCACATTCCAGTGCCAATGGTAGACACCCTCAACCATCAATCACCTTGTAA\"\n        ],\n        \"semantic_type\": \"\",\n        \"description\": \"\"\n      }\n    }\n  ]\n}"
            }
          },
          "metadata": {},
          "execution_count": 97
        }
      ]
    },
    {
      "cell_type": "code",
      "source": [
        "print(len(df) - sum(df['Prion Formation'])) # we have 5236 non-prion-forming genes\n",
        "print(sum(df['Prion Formation'])) # we have 18 prion-forming genes and"
      ],
      "metadata": {
        "colab": {
          "base_uri": "https://localhost:8080/"
        },
        "id": "ozVPS9oxMu30",
        "outputId": "f9a0ed9c-77c3-45c6-807f-25e4eb82a509"
      },
      "execution_count": null,
      "outputs": [
        {
          "output_type": "stream",
          "name": "stdout",
          "text": [
            "5236\n",
            "18\n"
          ]
        }
      ]
    },
    {
      "cell_type": "markdown",
      "source": [
        "# Calculating DNA Composition (each nucleotide percentage)"
      ],
      "metadata": {
        "id": "XR-mHGWmyheg"
      }
    },
    {
      "cell_type": "code",
      "source": [
        "nucleotides = ['A', 'T', 'G', 'C']\n",
        "\n",
        "def count_nucleotides(dna_sequence):\n",
        "    return {nuc: (dna_sequence.count(nuc) / len(dna_sequence)) * 100 for nuc in nucleotides}\n",
        "\n",
        "def calculate_nucleotide_composition(df):\n",
        " nucleotide_results = []\n",
        "\n",
        " for _, row in df.iterrows():\n",
        "    counts = count_nucleotides(row['Sequence'])\n",
        "    counts['ID'] = row['ID']  # the ID is needed for later merging\n",
        "    nucleotide_results.append(counts)\n",
        "\n",
        " nucleotide_counts_df = pd.DataFrame(nucleotide_results)\n",
        "\n",
        " nucleotide_counts_df.rename(columns={'A': 'Ad', 'T': 'Th', 'G': 'Gu', 'C': 'Cy'}, inplace=True)\n",
        "\n",
        " return nucleotide_counts_df\n",
        "\n",
        "# for entire dataset\n",
        "nucleotide_counts_df = calculate_nucleotide_composition(df)\n",
        "df = pd.merge(df, nucleotide_counts_df, on='ID')\n",
        "\n",
        "# for prions {PrDs}\n",
        "nuc_pfds = calculate_nucleotide_composition(prion_forming_domains)\n",
        "prion_forming_domains = pd.merge(prion_forming_domains, nuc_pfds, on='ID')\n",
        "\n",
        "# for prions {non-PrDs}\n",
        "nuc_non_pfds = calculate_nucleotide_composition(non_prion_forming_domains)\n",
        "non_prion_forming_domains = pd.merge(non_prion_forming_domains, nuc_non_pfds, on='ID')"
      ],
      "metadata": {
        "id": "3J5WOj1PyuL_"
      },
      "execution_count": null,
      "outputs": []
    },
    {
      "cell_type": "markdown",
      "source": [
        "# Translating the DNA sequences of the genes"
      ],
      "metadata": {
        "id": "idczImXRhXOn"
      }
    },
    {
      "cell_type": "code",
      "source": [
        "def translate_dna(seq):\n",
        "    return str(Seq(seq).translate(to_stop=True))\n",
        "df['Protein Sequence'] = df['Sequence'].apply(translate_dna)"
      ],
      "metadata": {
        "id": "yB9MGTgsUzW4"
      },
      "execution_count": null,
      "outputs": []
    },
    {
      "cell_type": "markdown",
      "source": [
        "# Calculating the protein composition for every gene"
      ],
      "metadata": {
        "id": "IiYxp9UfhcsT"
      }
    },
    {
      "cell_type": "code",
      "source": [
        "amino_acids = ['A', 'R', 'N', 'D', 'C', 'Q', 'E', 'G', 'H', 'I', 'L', 'K', 'M', 'F', 'P', 'S', 'T', 'W', 'Y', 'V']\n",
        "\n",
        "def count_amino_acids(protein_sequence):\n",
        "    # Calculate percentage for each amino acid\n",
        "    return {aa: (protein_sequence.count(aa) / len(protein_sequence)) * 100 for aa in amino_acids}\n",
        "\n",
        "def calculate_amino_acid_composition(df):\n",
        " amino_acid_results = []\n",
        "\n",
        " for _, row in df.iterrows():\n",
        "    counts = count_amino_acids(row['Protein Sequence'])\n",
        "    counts['ID'] = row['ID']  # the ID is needed for later merging\n",
        "    amino_acid_results.append(counts)\n",
        "\n",
        " amino_acid_counts_df = pd.DataFrame(amino_acid_results)\n",
        " return amino_acid_counts_df\n",
        "\n",
        "# for entire dataset\n",
        "amino_acid_counts_df = calculate_amino_acid_composition(df)\n",
        "amino_acid_df = pd.merge(df, amino_acid_counts_df, on='ID')\n",
        "amino_acid_df['Sequence'] = amino_acid_df['Sequence'].astype(str)\n",
        "\n",
        "# for prions {PrDs}\n",
        "amino_acid_pfds = calculate_amino_acid_composition(prion_forming_domains)\n",
        "prion_forming_domains = pd.merge(prion_forming_domains, amino_acid_pfds, on='ID')\n",
        "prion_forming_domains['Sequence'] = prion_forming_domains['Sequence'].astype(str)\n",
        "\n",
        "# for prions {non_PrDs}\n",
        "amino_acid_non_pfds = calculate_amino_acid_composition(non_prion_forming_domains)\n",
        "non_prion_forming_domains = pd.merge(non_prion_forming_domains, amino_acid_non_pfds, on='ID')\n",
        "non_prion_forming_domains['Sequence'] = non_prion_forming_domains['Sequence'].astype(str)"
      ],
      "metadata": {
        "id": "KcJRPRZdVHyA"
      },
      "execution_count": null,
      "outputs": []
    },
    {
      "cell_type": "markdown",
      "source": [
        "# A random sampling function. This should be used inside some big loop whenever comparig group_1 to group_0 (which shall be some \"averaged\" group_0 based on this function)."
      ],
      "metadata": {
        "id": "-NxIpTvL4Tcq"
      }
    },
    {
      "cell_type": "code",
      "source": [
        "def random_sample(df, N):\n",
        "\n",
        "    sampled_df = df.sample(n=N, random_state=None)\n",
        "\n",
        "    return sampled_df"
      ],
      "metadata": {
        "id": "cO5MbB0m4YxJ"
      },
      "execution_count": null,
      "outputs": []
    },
    {
      "cell_type": "code",
      "source": [
        "random_df = random_sample(amino_acid_df[amino_acid_df['Prion Formation'] == 0], 15)\n",
        "random_df"
      ],
      "metadata": {
        "colab": {
          "base_uri": "https://localhost:8080/",
          "height": 846
        },
        "id": "hl4hX8YP5EhZ",
        "outputId": "4eee6c4b-57c5-4dc1-bb2c-d019bc644467"
      },
      "execution_count": null,
      "outputs": [
        {
          "output_type": "execute_result",
          "data": {
            "text/plain": [
              "             ID Gene Name           ORF  Prion Formation  \\\n",
              "2707  YJR010C-A      SPC1  Verified ORF                0   \n",
              "1436    YER104W    RTT105  Verified ORF                0   \n",
              "1710    YGL153W     PEX14  Verified ORF                0   \n",
              "510     YCR018C      SRD1  Verified ORF                0   \n",
              "449     YCL061C      MRC1  Verified ORF                0   \n",
              "1441    YER111C      SWI4  Verified ORF                0   \n",
              "342     YBR191W    RPL21A  Verified ORF                0   \n",
              "1839    YGL001C     ERG26  Verified ORF                0   \n",
              "926     YDR156W     RPA14  Verified ORF                0   \n",
              "2584    YJL136C    RPS21B  Verified ORF                0   \n",
              "4361    YOL142W     RRP40  Verified ORF                0   \n",
              "2684    YJL019W      MPS3  Verified ORF                0   \n",
              "2920    YKL126W      YPK1  Verified ORF                0   \n",
              "2871    YKL183W      LOT5  Verified ORF                0   \n",
              "4181    YNL106C     INP52  Verified ORF                0   \n",
              "\n",
              "                                               Sequence         Ad         Th  \\\n",
              "2707  ATGTCTGAGATATTACAAGATGTACAAAGGAAACTGGTTTTTCCAA...  32.280702  29.824561   \n",
              "1436  ATGTACAGCAATCATAATTTAAATTCGGATGACTGTTGCTTCGATT...  35.087719  24.401914   \n",
              "1710  ATGAGTGACGTGGTCAGTAAAGATCGTAAGGCATTGTTCGACTCAG...  37.134503  22.027290   \n",
              "510   ATGCGATATAATAATTATGACAACTCTGGAAGTTCCTTCTTAACTA...  40.540541  22.072072   \n",
              "449   ATGGATGATGCCTTGCATGCTTTGTCCTCGTTGACTGCAAAGAAGA...  39.987846  22.303251   \n",
              "1441  ATGCCATTTGATGTTTTGATATCAAACCAAAAAGATAATACCAATC...  39.945155  25.502742   \n",
              "342   ATGGGTAAATCACACGGTTACAGATCTCGTACTCGTTACATGTTCC...  31.055901  27.122153   \n",
              "1839  ATGTCAAAGATAGATTCAGTTTTAATTATCGGTGGTTCTGGTTTTC...  29.714286  30.666667   \n",
              "926   ATGATGAAAGGTTCTAGAAGAACAGGTAATAACACTGCTACCACGC...  28.743961  20.289855   \n",
              "2584  ATGGAAAACGATAAGGGTCAATTAGTTGAATTATATGTTCCAAGAA...  28.787879  28.030303   \n",
              "4361  ATGTCTACGTTCATATTCCCTGGTGATAGCTTTCCTGTAGACCCTA...  29.875519  29.598893   \n",
              "2684  ATGAATAACTCAAATGAGCATAGGCGGGAAGAGGCAGGAGCGGCTA...  34.455832  25.768668   \n",
              "2920  ATGTATTCTTGGAAGTCAAAGTTTAAGTTTGGAAAATCTAAAGAAG...  31.962800  29.907000   \n",
              "2871  ATGATGAAAAAAAAACCAAAGTGCCAAATTGCAAGGACCAAACCAT...  30.293160  21.498371   \n",
              "4181  ATGAAAATACTCCTATCGAAACAGCAAACTAGAAAGATAGCAATAG...  32.742117  27.759009   \n",
              "\n",
              "             Gu         Cy                                   Protein Sequence  \\\n",
              "2707  21.052632  16.842105  MSEILQDVQRKLVFPIDFPSQRKTEKFQQLSLMIGALVACILGFAQ...   \n",
              "1436  21.052632  19.457735  MYSNHNLNSDDCCFDWNEEKAAELQRTGVSFDRSLTPQSLRTSTRR...   \n",
              "1710  23.294347  17.543860  MSDVVSKDRKALFDSAVSFLKDESIKDAPLLKKIEFLKSKGLTEKE...   \n",
              "510   21.021021  16.366366  MRYNNYDNSGSSFLTRVVKKSDMEKTLLLNREIDDWKSNDKKKAYK...   \n",
              "449   20.176238  17.532665  MDDALHALSSLTAKKRTTTYKKVAVPILDENDNTNGNGPNDIDNPP...   \n",
              "1441  15.478367  19.073736  MPFDVLISNQKDNTNHQNITPISKSVLLAPHSNHPVIEIATYSETD...   \n",
              "342   20.703934  21.118012  MGKSHGYRSRTRYMFQRDFRKHGAVHLSTYLKVYKVGDIVDIKANG...   \n",
              "1839  22.285714  17.333333  MSKIDSVLIIGGSGFLGLHLIQQFFDINPKPDIHIFDVRDLPEKLS...   \n",
              "926   23.188406  27.777778  MMKGSRRTGNNTATTLNTPVVIHATQLPQHVSTDEVLQFLESFIDE...   \n",
              "2584  22.348485  20.833333  MENDKGQLVELYVPRKCSATNRIIKADDHASVQINVAKVDEEGRAI...   \n",
              "4361  22.406639  18.118949  MSTFIFPGDSFPVDPTTPVKLGPGIYCDPNTQEIRPVNTGVLHVSA...   \n",
              "2684  20.595412  19.180088  MNNSNEHRREEAGAANEQMPYNKAVKSAYADVLKDKMNREQEISLR...   \n",
              "2920  20.558003  17.572198  MYSWKSKFKFGKSKEEKEAKHSGFFHSSKKEEQQNNQATAGEHDAS...   \n",
              "2871  24.104235  24.104235  MMKKKPKCQIARTKPSVENVIPYNQFKKTQPRFNGNFSALNNEEYI...   \n",
              "4181  19.763514  19.735360  MKILLSKQQTRKIAIVSETHGLVFRPINSKNSRRSTCAVELVPKAE...   \n",
              "\n",
              "      ...          L          K         M         F         P          S  \\\n",
              "2707  ...  12.765957   7.446809  2.127660  4.255319  5.319149   5.319149   \n",
              "1436  ...   7.692308   4.807692  4.807692  2.884615  3.365385  11.057692   \n",
              "1710  ...   6.744868  10.557185  3.519062  2.639296  4.105572   8.211144   \n",
              "510   ...   5.429864  12.669683  0.904977  1.357466  2.714932  10.859729   \n",
              "449   ...   7.481752  10.857664  1.368613  2.554745  3.649635   9.032847   \n",
              "1441  ...   7.319305   8.417200  2.378774  3.019213  4.940531  11.436414   \n",
              "342   ...   5.000000  10.625000  2.500000  3.125000  3.750000   5.625000   \n",
              "1839  ...   7.449857   7.449857  2.292264  4.584527  5.444126   4.297994   \n",
              "926   ...   5.839416   5.839416  2.189781  3.649635  3.649635  10.218978   \n",
              "2584  ...   8.045977   5.747126  1.149425  0.000000  2.298851   9.195402   \n",
              "4361  ...   7.500000   7.083333  1.666667  6.250000  4.583333   7.500000   \n",
              "2684  ...   8.651026   6.891496  1.759531  4.105572  3.665689   9.677419   \n",
              "2920  ...  10.294118   7.794118  1.764706  5.000000  5.294118   9.705882   \n",
              "2871  ...  10.457516   2.941176  2.614379  4.248366  4.575163   6.862745   \n",
              "4181  ...   8.875740   7.692308  1.098901  4.733728  5.917160  10.397295   \n",
              "\n",
              "              T         W         Y          V  \n",
              "2707   3.191489  2.127660  4.255319   7.446809  \n",
              "1436   4.807692  0.961538  2.403846   2.403846  \n",
              "1710   4.398827  1.173021  1.759531   4.985337  \n",
              "510    6.787330  1.357466  3.167421   3.619910  \n",
              "449    5.930657  0.091241  1.824818   3.923358  \n",
              "1441   6.312900  0.365965  2.561757   3.476670  \n",
              "342    4.375000  0.000000  5.000000  10.625000  \n",
              "1839   5.157593  1.719198  2.865330   8.309456  \n",
              "926   13.138686  0.000000  0.000000   5.109489  \n",
              "2584   2.298851  1.149425  5.747126   8.045977  \n",
              "4361   6.666667  0.416667  3.333333   7.916667  \n",
              "2684   5.278592  1.319648  4.838710   4.252199  \n",
              "2920   5.588235  1.029412  3.823529   5.000000  \n",
              "2871   3.921569  0.326797  4.575163   4.575163  \n",
              "4181   6.339814  0.760778  3.381234   5.325444  \n",
              "\n",
              "[15 rows x 30 columns]"
            ],
            "text/html": [
              "\n",
              "  <div id=\"df-41a359e0-1b77-443c-9afe-107a841d7823\" class=\"colab-df-container\">\n",
              "    <div>\n",
              "<style scoped>\n",
              "    .dataframe tbody tr th:only-of-type {\n",
              "        vertical-align: middle;\n",
              "    }\n",
              "\n",
              "    .dataframe tbody tr th {\n",
              "        vertical-align: top;\n",
              "    }\n",
              "\n",
              "    .dataframe thead th {\n",
              "        text-align: right;\n",
              "    }\n",
              "</style>\n",
              "<table border=\"1\" class=\"dataframe\">\n",
              "  <thead>\n",
              "    <tr style=\"text-align: right;\">\n",
              "      <th></th>\n",
              "      <th>ID</th>\n",
              "      <th>Gene Name</th>\n",
              "      <th>ORF</th>\n",
              "      <th>Prion Formation</th>\n",
              "      <th>Sequence</th>\n",
              "      <th>Ad</th>\n",
              "      <th>Th</th>\n",
              "      <th>Gu</th>\n",
              "      <th>Cy</th>\n",
              "      <th>Protein Sequence</th>\n",
              "      <th>...</th>\n",
              "      <th>L</th>\n",
              "      <th>K</th>\n",
              "      <th>M</th>\n",
              "      <th>F</th>\n",
              "      <th>P</th>\n",
              "      <th>S</th>\n",
              "      <th>T</th>\n",
              "      <th>W</th>\n",
              "      <th>Y</th>\n",
              "      <th>V</th>\n",
              "    </tr>\n",
              "  </thead>\n",
              "  <tbody>\n",
              "    <tr>\n",
              "      <th>2707</th>\n",
              "      <td>YJR010C-A</td>\n",
              "      <td>SPC1</td>\n",
              "      <td>Verified ORF</td>\n",
              "      <td>0</td>\n",
              "      <td>ATGTCTGAGATATTACAAGATGTACAAAGGAAACTGGTTTTTCCAA...</td>\n",
              "      <td>32.280702</td>\n",
              "      <td>29.824561</td>\n",
              "      <td>21.052632</td>\n",
              "      <td>16.842105</td>\n",
              "      <td>MSEILQDVQRKLVFPIDFPSQRKTEKFQQLSLMIGALVACILGFAQ...</td>\n",
              "      <td>...</td>\n",
              "      <td>12.765957</td>\n",
              "      <td>7.446809</td>\n",
              "      <td>2.127660</td>\n",
              "      <td>4.255319</td>\n",
              "      <td>5.319149</td>\n",
              "      <td>5.319149</td>\n",
              "      <td>3.191489</td>\n",
              "      <td>2.127660</td>\n",
              "      <td>4.255319</td>\n",
              "      <td>7.446809</td>\n",
              "    </tr>\n",
              "    <tr>\n",
              "      <th>1436</th>\n",
              "      <td>YER104W</td>\n",
              "      <td>RTT105</td>\n",
              "      <td>Verified ORF</td>\n",
              "      <td>0</td>\n",
              "      <td>ATGTACAGCAATCATAATTTAAATTCGGATGACTGTTGCTTCGATT...</td>\n",
              "      <td>35.087719</td>\n",
              "      <td>24.401914</td>\n",
              "      <td>21.052632</td>\n",
              "      <td>19.457735</td>\n",
              "      <td>MYSNHNLNSDDCCFDWNEEKAAELQRTGVSFDRSLTPQSLRTSTRR...</td>\n",
              "      <td>...</td>\n",
              "      <td>7.692308</td>\n",
              "      <td>4.807692</td>\n",
              "      <td>4.807692</td>\n",
              "      <td>2.884615</td>\n",
              "      <td>3.365385</td>\n",
              "      <td>11.057692</td>\n",
              "      <td>4.807692</td>\n",
              "      <td>0.961538</td>\n",
              "      <td>2.403846</td>\n",
              "      <td>2.403846</td>\n",
              "    </tr>\n",
              "    <tr>\n",
              "      <th>1710</th>\n",
              "      <td>YGL153W</td>\n",
              "      <td>PEX14</td>\n",
              "      <td>Verified ORF</td>\n",
              "      <td>0</td>\n",
              "      <td>ATGAGTGACGTGGTCAGTAAAGATCGTAAGGCATTGTTCGACTCAG...</td>\n",
              "      <td>37.134503</td>\n",
              "      <td>22.027290</td>\n",
              "      <td>23.294347</td>\n",
              "      <td>17.543860</td>\n",
              "      <td>MSDVVSKDRKALFDSAVSFLKDESIKDAPLLKKIEFLKSKGLTEKE...</td>\n",
              "      <td>...</td>\n",
              "      <td>6.744868</td>\n",
              "      <td>10.557185</td>\n",
              "      <td>3.519062</td>\n",
              "      <td>2.639296</td>\n",
              "      <td>4.105572</td>\n",
              "      <td>8.211144</td>\n",
              "      <td>4.398827</td>\n",
              "      <td>1.173021</td>\n",
              "      <td>1.759531</td>\n",
              "      <td>4.985337</td>\n",
              "    </tr>\n",
              "    <tr>\n",
              "      <th>510</th>\n",
              "      <td>YCR018C</td>\n",
              "      <td>SRD1</td>\n",
              "      <td>Verified ORF</td>\n",
              "      <td>0</td>\n",
              "      <td>ATGCGATATAATAATTATGACAACTCTGGAAGTTCCTTCTTAACTA...</td>\n",
              "      <td>40.540541</td>\n",
              "      <td>22.072072</td>\n",
              "      <td>21.021021</td>\n",
              "      <td>16.366366</td>\n",
              "      <td>MRYNNYDNSGSSFLTRVVKKSDMEKTLLLNREIDDWKSNDKKKAYK...</td>\n",
              "      <td>...</td>\n",
              "      <td>5.429864</td>\n",
              "      <td>12.669683</td>\n",
              "      <td>0.904977</td>\n",
              "      <td>1.357466</td>\n",
              "      <td>2.714932</td>\n",
              "      <td>10.859729</td>\n",
              "      <td>6.787330</td>\n",
              "      <td>1.357466</td>\n",
              "      <td>3.167421</td>\n",
              "      <td>3.619910</td>\n",
              "    </tr>\n",
              "    <tr>\n",
              "      <th>449</th>\n",
              "      <td>YCL061C</td>\n",
              "      <td>MRC1</td>\n",
              "      <td>Verified ORF</td>\n",
              "      <td>0</td>\n",
              "      <td>ATGGATGATGCCTTGCATGCTTTGTCCTCGTTGACTGCAAAGAAGA...</td>\n",
              "      <td>39.987846</td>\n",
              "      <td>22.303251</td>\n",
              "      <td>20.176238</td>\n",
              "      <td>17.532665</td>\n",
              "      <td>MDDALHALSSLTAKKRTTTYKKVAVPILDENDNTNGNGPNDIDNPP...</td>\n",
              "      <td>...</td>\n",
              "      <td>7.481752</td>\n",
              "      <td>10.857664</td>\n",
              "      <td>1.368613</td>\n",
              "      <td>2.554745</td>\n",
              "      <td>3.649635</td>\n",
              "      <td>9.032847</td>\n",
              "      <td>5.930657</td>\n",
              "      <td>0.091241</td>\n",
              "      <td>1.824818</td>\n",
              "      <td>3.923358</td>\n",
              "    </tr>\n",
              "    <tr>\n",
              "      <th>1441</th>\n",
              "      <td>YER111C</td>\n",
              "      <td>SWI4</td>\n",
              "      <td>Verified ORF</td>\n",
              "      <td>0</td>\n",
              "      <td>ATGCCATTTGATGTTTTGATATCAAACCAAAAAGATAATACCAATC...</td>\n",
              "      <td>39.945155</td>\n",
              "      <td>25.502742</td>\n",
              "      <td>15.478367</td>\n",
              "      <td>19.073736</td>\n",
              "      <td>MPFDVLISNQKDNTNHQNITPISKSVLLAPHSNHPVIEIATYSETD...</td>\n",
              "      <td>...</td>\n",
              "      <td>7.319305</td>\n",
              "      <td>8.417200</td>\n",
              "      <td>2.378774</td>\n",
              "      <td>3.019213</td>\n",
              "      <td>4.940531</td>\n",
              "      <td>11.436414</td>\n",
              "      <td>6.312900</td>\n",
              "      <td>0.365965</td>\n",
              "      <td>2.561757</td>\n",
              "      <td>3.476670</td>\n",
              "    </tr>\n",
              "    <tr>\n",
              "      <th>342</th>\n",
              "      <td>YBR191W</td>\n",
              "      <td>RPL21A</td>\n",
              "      <td>Verified ORF</td>\n",
              "      <td>0</td>\n",
              "      <td>ATGGGTAAATCACACGGTTACAGATCTCGTACTCGTTACATGTTCC...</td>\n",
              "      <td>31.055901</td>\n",
              "      <td>27.122153</td>\n",
              "      <td>20.703934</td>\n",
              "      <td>21.118012</td>\n",
              "      <td>MGKSHGYRSRTRYMFQRDFRKHGAVHLSTYLKVYKVGDIVDIKANG...</td>\n",
              "      <td>...</td>\n",
              "      <td>5.000000</td>\n",
              "      <td>10.625000</td>\n",
              "      <td>2.500000</td>\n",
              "      <td>3.125000</td>\n",
              "      <td>3.750000</td>\n",
              "      <td>5.625000</td>\n",
              "      <td>4.375000</td>\n",
              "      <td>0.000000</td>\n",
              "      <td>5.000000</td>\n",
              "      <td>10.625000</td>\n",
              "    </tr>\n",
              "    <tr>\n",
              "      <th>1839</th>\n",
              "      <td>YGL001C</td>\n",
              "      <td>ERG26</td>\n",
              "      <td>Verified ORF</td>\n",
              "      <td>0</td>\n",
              "      <td>ATGTCAAAGATAGATTCAGTTTTAATTATCGGTGGTTCTGGTTTTC...</td>\n",
              "      <td>29.714286</td>\n",
              "      <td>30.666667</td>\n",
              "      <td>22.285714</td>\n",
              "      <td>17.333333</td>\n",
              "      <td>MSKIDSVLIIGGSGFLGLHLIQQFFDINPKPDIHIFDVRDLPEKLS...</td>\n",
              "      <td>...</td>\n",
              "      <td>7.449857</td>\n",
              "      <td>7.449857</td>\n",
              "      <td>2.292264</td>\n",
              "      <td>4.584527</td>\n",
              "      <td>5.444126</td>\n",
              "      <td>4.297994</td>\n",
              "      <td>5.157593</td>\n",
              "      <td>1.719198</td>\n",
              "      <td>2.865330</td>\n",
              "      <td>8.309456</td>\n",
              "    </tr>\n",
              "    <tr>\n",
              "      <th>926</th>\n",
              "      <td>YDR156W</td>\n",
              "      <td>RPA14</td>\n",
              "      <td>Verified ORF</td>\n",
              "      <td>0</td>\n",
              "      <td>ATGATGAAAGGTTCTAGAAGAACAGGTAATAACACTGCTACCACGC...</td>\n",
              "      <td>28.743961</td>\n",
              "      <td>20.289855</td>\n",
              "      <td>23.188406</td>\n",
              "      <td>27.777778</td>\n",
              "      <td>MMKGSRRTGNNTATTLNTPVVIHATQLPQHVSTDEVLQFLESFIDE...</td>\n",
              "      <td>...</td>\n",
              "      <td>5.839416</td>\n",
              "      <td>5.839416</td>\n",
              "      <td>2.189781</td>\n",
              "      <td>3.649635</td>\n",
              "      <td>3.649635</td>\n",
              "      <td>10.218978</td>\n",
              "      <td>13.138686</td>\n",
              "      <td>0.000000</td>\n",
              "      <td>0.000000</td>\n",
              "      <td>5.109489</td>\n",
              "    </tr>\n",
              "    <tr>\n",
              "      <th>2584</th>\n",
              "      <td>YJL136C</td>\n",
              "      <td>RPS21B</td>\n",
              "      <td>Verified ORF</td>\n",
              "      <td>0</td>\n",
              "      <td>ATGGAAAACGATAAGGGTCAATTAGTTGAATTATATGTTCCAAGAA...</td>\n",
              "      <td>28.787879</td>\n",
              "      <td>28.030303</td>\n",
              "      <td>22.348485</td>\n",
              "      <td>20.833333</td>\n",
              "      <td>MENDKGQLVELYVPRKCSATNRIIKADDHASVQINVAKVDEEGRAI...</td>\n",
              "      <td>...</td>\n",
              "      <td>8.045977</td>\n",
              "      <td>5.747126</td>\n",
              "      <td>1.149425</td>\n",
              "      <td>0.000000</td>\n",
              "      <td>2.298851</td>\n",
              "      <td>9.195402</td>\n",
              "      <td>2.298851</td>\n",
              "      <td>1.149425</td>\n",
              "      <td>5.747126</td>\n",
              "      <td>8.045977</td>\n",
              "    </tr>\n",
              "    <tr>\n",
              "      <th>4361</th>\n",
              "      <td>YOL142W</td>\n",
              "      <td>RRP40</td>\n",
              "      <td>Verified ORF</td>\n",
              "      <td>0</td>\n",
              "      <td>ATGTCTACGTTCATATTCCCTGGTGATAGCTTTCCTGTAGACCCTA...</td>\n",
              "      <td>29.875519</td>\n",
              "      <td>29.598893</td>\n",
              "      <td>22.406639</td>\n",
              "      <td>18.118949</td>\n",
              "      <td>MSTFIFPGDSFPVDPTTPVKLGPGIYCDPNTQEIRPVNTGVLHVSA...</td>\n",
              "      <td>...</td>\n",
              "      <td>7.500000</td>\n",
              "      <td>7.083333</td>\n",
              "      <td>1.666667</td>\n",
              "      <td>6.250000</td>\n",
              "      <td>4.583333</td>\n",
              "      <td>7.500000</td>\n",
              "      <td>6.666667</td>\n",
              "      <td>0.416667</td>\n",
              "      <td>3.333333</td>\n",
              "      <td>7.916667</td>\n",
              "    </tr>\n",
              "    <tr>\n",
              "      <th>2684</th>\n",
              "      <td>YJL019W</td>\n",
              "      <td>MPS3</td>\n",
              "      <td>Verified ORF</td>\n",
              "      <td>0</td>\n",
              "      <td>ATGAATAACTCAAATGAGCATAGGCGGGAAGAGGCAGGAGCGGCTA...</td>\n",
              "      <td>34.455832</td>\n",
              "      <td>25.768668</td>\n",
              "      <td>20.595412</td>\n",
              "      <td>19.180088</td>\n",
              "      <td>MNNSNEHRREEAGAANEQMPYNKAVKSAYADVLKDKMNREQEISLR...</td>\n",
              "      <td>...</td>\n",
              "      <td>8.651026</td>\n",
              "      <td>6.891496</td>\n",
              "      <td>1.759531</td>\n",
              "      <td>4.105572</td>\n",
              "      <td>3.665689</td>\n",
              "      <td>9.677419</td>\n",
              "      <td>5.278592</td>\n",
              "      <td>1.319648</td>\n",
              "      <td>4.838710</td>\n",
              "      <td>4.252199</td>\n",
              "    </tr>\n",
              "    <tr>\n",
              "      <th>2920</th>\n",
              "      <td>YKL126W</td>\n",
              "      <td>YPK1</td>\n",
              "      <td>Verified ORF</td>\n",
              "      <td>0</td>\n",
              "      <td>ATGTATTCTTGGAAGTCAAAGTTTAAGTTTGGAAAATCTAAAGAAG...</td>\n",
              "      <td>31.962800</td>\n",
              "      <td>29.907000</td>\n",
              "      <td>20.558003</td>\n",
              "      <td>17.572198</td>\n",
              "      <td>MYSWKSKFKFGKSKEEKEAKHSGFFHSSKKEEQQNNQATAGEHDAS...</td>\n",
              "      <td>...</td>\n",
              "      <td>10.294118</td>\n",
              "      <td>7.794118</td>\n",
              "      <td>1.764706</td>\n",
              "      <td>5.000000</td>\n",
              "      <td>5.294118</td>\n",
              "      <td>9.705882</td>\n",
              "      <td>5.588235</td>\n",
              "      <td>1.029412</td>\n",
              "      <td>3.823529</td>\n",
              "      <td>5.000000</td>\n",
              "    </tr>\n",
              "    <tr>\n",
              "      <th>2871</th>\n",
              "      <td>YKL183W</td>\n",
              "      <td>LOT5</td>\n",
              "      <td>Verified ORF</td>\n",
              "      <td>0</td>\n",
              "      <td>ATGATGAAAAAAAAACCAAAGTGCCAAATTGCAAGGACCAAACCAT...</td>\n",
              "      <td>30.293160</td>\n",
              "      <td>21.498371</td>\n",
              "      <td>24.104235</td>\n",
              "      <td>24.104235</td>\n",
              "      <td>MMKKKPKCQIARTKPSVENVIPYNQFKKTQPRFNGNFSALNNEEYI...</td>\n",
              "      <td>...</td>\n",
              "      <td>10.457516</td>\n",
              "      <td>2.941176</td>\n",
              "      <td>2.614379</td>\n",
              "      <td>4.248366</td>\n",
              "      <td>4.575163</td>\n",
              "      <td>6.862745</td>\n",
              "      <td>3.921569</td>\n",
              "      <td>0.326797</td>\n",
              "      <td>4.575163</td>\n",
              "      <td>4.575163</td>\n",
              "    </tr>\n",
              "    <tr>\n",
              "      <th>4181</th>\n",
              "      <td>YNL106C</td>\n",
              "      <td>INP52</td>\n",
              "      <td>Verified ORF</td>\n",
              "      <td>0</td>\n",
              "      <td>ATGAAAATACTCCTATCGAAACAGCAAACTAGAAAGATAGCAATAG...</td>\n",
              "      <td>32.742117</td>\n",
              "      <td>27.759009</td>\n",
              "      <td>19.763514</td>\n",
              "      <td>19.735360</td>\n",
              "      <td>MKILLSKQQTRKIAIVSETHGLVFRPINSKNSRRSTCAVELVPKAE...</td>\n",
              "      <td>...</td>\n",
              "      <td>8.875740</td>\n",
              "      <td>7.692308</td>\n",
              "      <td>1.098901</td>\n",
              "      <td>4.733728</td>\n",
              "      <td>5.917160</td>\n",
              "      <td>10.397295</td>\n",
              "      <td>6.339814</td>\n",
              "      <td>0.760778</td>\n",
              "      <td>3.381234</td>\n",
              "      <td>5.325444</td>\n",
              "    </tr>\n",
              "  </tbody>\n",
              "</table>\n",
              "<p>15 rows × 30 columns</p>\n",
              "</div>\n",
              "    <div class=\"colab-df-buttons\">\n",
              "\n",
              "  <div class=\"colab-df-container\">\n",
              "    <button class=\"colab-df-convert\" onclick=\"convertToInteractive('df-41a359e0-1b77-443c-9afe-107a841d7823')\"\n",
              "            title=\"Convert this dataframe to an interactive table.\"\n",
              "            style=\"display:none;\">\n",
              "\n",
              "  <svg xmlns=\"http://www.w3.org/2000/svg\" height=\"24px\" viewBox=\"0 -960 960 960\">\n",
              "    <path d=\"M120-120v-720h720v720H120Zm60-500h600v-160H180v160Zm220 220h160v-160H400v160Zm0 220h160v-160H400v160ZM180-400h160v-160H180v160Zm440 0h160v-160H620v160ZM180-180h160v-160H180v160Zm440 0h160v-160H620v160Z\"/>\n",
              "  </svg>\n",
              "    </button>\n",
              "\n",
              "  <style>\n",
              "    .colab-df-container {\n",
              "      display:flex;\n",
              "      gap: 12px;\n",
              "    }\n",
              "\n",
              "    .colab-df-convert {\n",
              "      background-color: #E8F0FE;\n",
              "      border: none;\n",
              "      border-radius: 50%;\n",
              "      cursor: pointer;\n",
              "      display: none;\n",
              "      fill: #1967D2;\n",
              "      height: 32px;\n",
              "      padding: 0 0 0 0;\n",
              "      width: 32px;\n",
              "    }\n",
              "\n",
              "    .colab-df-convert:hover {\n",
              "      background-color: #E2EBFA;\n",
              "      box-shadow: 0px 1px 2px rgba(60, 64, 67, 0.3), 0px 1px 3px 1px rgba(60, 64, 67, 0.15);\n",
              "      fill: #174EA6;\n",
              "    }\n",
              "\n",
              "    .colab-df-buttons div {\n",
              "      margin-bottom: 4px;\n",
              "    }\n",
              "\n",
              "    [theme=dark] .colab-df-convert {\n",
              "      background-color: #3B4455;\n",
              "      fill: #D2E3FC;\n",
              "    }\n",
              "\n",
              "    [theme=dark] .colab-df-convert:hover {\n",
              "      background-color: #434B5C;\n",
              "      box-shadow: 0px 1px 3px 1px rgba(0, 0, 0, 0.15);\n",
              "      filter: drop-shadow(0px 1px 2px rgba(0, 0, 0, 0.3));\n",
              "      fill: #FFFFFF;\n",
              "    }\n",
              "  </style>\n",
              "\n",
              "    <script>\n",
              "      const buttonEl =\n",
              "        document.querySelector('#df-41a359e0-1b77-443c-9afe-107a841d7823 button.colab-df-convert');\n",
              "      buttonEl.style.display =\n",
              "        google.colab.kernel.accessAllowed ? 'block' : 'none';\n",
              "\n",
              "      async function convertToInteractive(key) {\n",
              "        const element = document.querySelector('#df-41a359e0-1b77-443c-9afe-107a841d7823');\n",
              "        const dataTable =\n",
              "          await google.colab.kernel.invokeFunction('convertToInteractive',\n",
              "                                                    [key], {});\n",
              "        if (!dataTable) return;\n",
              "\n",
              "        const docLinkHtml = 'Like what you see? Visit the ' +\n",
              "          '<a target=\"_blank\" href=https://colab.research.google.com/notebooks/data_table.ipynb>data table notebook</a>'\n",
              "          + ' to learn more about interactive tables.';\n",
              "        element.innerHTML = '';\n",
              "        dataTable['output_type'] = 'display_data';\n",
              "        await google.colab.output.renderOutput(dataTable, element);\n",
              "        const docLink = document.createElement('div');\n",
              "        docLink.innerHTML = docLinkHtml;\n",
              "        element.appendChild(docLink);\n",
              "      }\n",
              "    </script>\n",
              "  </div>\n",
              "\n",
              "\n",
              "<div id=\"df-8ddf150f-5815-43f6-82d0-0cab8b521ff3\">\n",
              "  <button class=\"colab-df-quickchart\" onclick=\"quickchart('df-8ddf150f-5815-43f6-82d0-0cab8b521ff3')\"\n",
              "            title=\"Suggest charts\"\n",
              "            style=\"display:none;\">\n",
              "\n",
              "<svg xmlns=\"http://www.w3.org/2000/svg\" height=\"24px\"viewBox=\"0 0 24 24\"\n",
              "     width=\"24px\">\n",
              "    <g>\n",
              "        <path d=\"M19 3H5c-1.1 0-2 .9-2 2v14c0 1.1.9 2 2 2h14c1.1 0 2-.9 2-2V5c0-1.1-.9-2-2-2zM9 17H7v-7h2v7zm4 0h-2V7h2v10zm4 0h-2v-4h2v4z\"/>\n",
              "    </g>\n",
              "</svg>\n",
              "  </button>\n",
              "\n",
              "<style>\n",
              "  .colab-df-quickchart {\n",
              "      --bg-color: #E8F0FE;\n",
              "      --fill-color: #1967D2;\n",
              "      --hover-bg-color: #E2EBFA;\n",
              "      --hover-fill-color: #174EA6;\n",
              "      --disabled-fill-color: #AAA;\n",
              "      --disabled-bg-color: #DDD;\n",
              "  }\n",
              "\n",
              "  [theme=dark] .colab-df-quickchart {\n",
              "      --bg-color: #3B4455;\n",
              "      --fill-color: #D2E3FC;\n",
              "      --hover-bg-color: #434B5C;\n",
              "      --hover-fill-color: #FFFFFF;\n",
              "      --disabled-bg-color: #3B4455;\n",
              "      --disabled-fill-color: #666;\n",
              "  }\n",
              "\n",
              "  .colab-df-quickchart {\n",
              "    background-color: var(--bg-color);\n",
              "    border: none;\n",
              "    border-radius: 50%;\n",
              "    cursor: pointer;\n",
              "    display: none;\n",
              "    fill: var(--fill-color);\n",
              "    height: 32px;\n",
              "    padding: 0;\n",
              "    width: 32px;\n",
              "  }\n",
              "\n",
              "  .colab-df-quickchart:hover {\n",
              "    background-color: var(--hover-bg-color);\n",
              "    box-shadow: 0 1px 2px rgba(60, 64, 67, 0.3), 0 1px 3px 1px rgba(60, 64, 67, 0.15);\n",
              "    fill: var(--button-hover-fill-color);\n",
              "  }\n",
              "\n",
              "  .colab-df-quickchart-complete:disabled,\n",
              "  .colab-df-quickchart-complete:disabled:hover {\n",
              "    background-color: var(--disabled-bg-color);\n",
              "    fill: var(--disabled-fill-color);\n",
              "    box-shadow: none;\n",
              "  }\n",
              "\n",
              "  .colab-df-spinner {\n",
              "    border: 2px solid var(--fill-color);\n",
              "    border-color: transparent;\n",
              "    border-bottom-color: var(--fill-color);\n",
              "    animation:\n",
              "      spin 1s steps(1) infinite;\n",
              "  }\n",
              "\n",
              "  @keyframes spin {\n",
              "    0% {\n",
              "      border-color: transparent;\n",
              "      border-bottom-color: var(--fill-color);\n",
              "      border-left-color: var(--fill-color);\n",
              "    }\n",
              "    20% {\n",
              "      border-color: transparent;\n",
              "      border-left-color: var(--fill-color);\n",
              "      border-top-color: var(--fill-color);\n",
              "    }\n",
              "    30% {\n",
              "      border-color: transparent;\n",
              "      border-left-color: var(--fill-color);\n",
              "      border-top-color: var(--fill-color);\n",
              "      border-right-color: var(--fill-color);\n",
              "    }\n",
              "    40% {\n",
              "      border-color: transparent;\n",
              "      border-right-color: var(--fill-color);\n",
              "      border-top-color: var(--fill-color);\n",
              "    }\n",
              "    60% {\n",
              "      border-color: transparent;\n",
              "      border-right-color: var(--fill-color);\n",
              "    }\n",
              "    80% {\n",
              "      border-color: transparent;\n",
              "      border-right-color: var(--fill-color);\n",
              "      border-bottom-color: var(--fill-color);\n",
              "    }\n",
              "    90% {\n",
              "      border-color: transparent;\n",
              "      border-bottom-color: var(--fill-color);\n",
              "    }\n",
              "  }\n",
              "</style>\n",
              "\n",
              "  <script>\n",
              "    async function quickchart(key) {\n",
              "      const quickchartButtonEl =\n",
              "        document.querySelector('#' + key + ' button');\n",
              "      quickchartButtonEl.disabled = true;  // To prevent multiple clicks.\n",
              "      quickchartButtonEl.classList.add('colab-df-spinner');\n",
              "      try {\n",
              "        const charts = await google.colab.kernel.invokeFunction(\n",
              "            'suggestCharts', [key], {});\n",
              "      } catch (error) {\n",
              "        console.error('Error during call to suggestCharts:', error);\n",
              "      }\n",
              "      quickchartButtonEl.classList.remove('colab-df-spinner');\n",
              "      quickchartButtonEl.classList.add('colab-df-quickchart-complete');\n",
              "    }\n",
              "    (() => {\n",
              "      let quickchartButtonEl =\n",
              "        document.querySelector('#df-8ddf150f-5815-43f6-82d0-0cab8b521ff3 button');\n",
              "      quickchartButtonEl.style.display =\n",
              "        google.colab.kernel.accessAllowed ? 'block' : 'none';\n",
              "    })();\n",
              "  </script>\n",
              "</div>\n",
              "\n",
              "  <div id=\"id_d48d4c61-4b7c-4e6b-8a82-1904a4aa6250\">\n",
              "    <style>\n",
              "      .colab-df-generate {\n",
              "        background-color: #E8F0FE;\n",
              "        border: none;\n",
              "        border-radius: 50%;\n",
              "        cursor: pointer;\n",
              "        display: none;\n",
              "        fill: #1967D2;\n",
              "        height: 32px;\n",
              "        padding: 0 0 0 0;\n",
              "        width: 32px;\n",
              "      }\n",
              "\n",
              "      .colab-df-generate:hover {\n",
              "        background-color: #E2EBFA;\n",
              "        box-shadow: 0px 1px 2px rgba(60, 64, 67, 0.3), 0px 1px 3px 1px rgba(60, 64, 67, 0.15);\n",
              "        fill: #174EA6;\n",
              "      }\n",
              "\n",
              "      [theme=dark] .colab-df-generate {\n",
              "        background-color: #3B4455;\n",
              "        fill: #D2E3FC;\n",
              "      }\n",
              "\n",
              "      [theme=dark] .colab-df-generate:hover {\n",
              "        background-color: #434B5C;\n",
              "        box-shadow: 0px 1px 3px 1px rgba(0, 0, 0, 0.15);\n",
              "        filter: drop-shadow(0px 1px 2px rgba(0, 0, 0, 0.3));\n",
              "        fill: #FFFFFF;\n",
              "      }\n",
              "    </style>\n",
              "    <button class=\"colab-df-generate\" onclick=\"generateWithVariable('random_df')\"\n",
              "            title=\"Generate code using this dataframe.\"\n",
              "            style=\"display:none;\">\n",
              "\n",
              "  <svg xmlns=\"http://www.w3.org/2000/svg\" height=\"24px\"viewBox=\"0 0 24 24\"\n",
              "       width=\"24px\">\n",
              "    <path d=\"M7,19H8.4L18.45,9,17,7.55,7,17.6ZM5,21V16.75L18.45,3.32a2,2,0,0,1,2.83,0l1.4,1.43a1.91,1.91,0,0,1,.58,1.4,1.91,1.91,0,0,1-.58,1.4L9.25,21ZM18.45,9,17,7.55Zm-12,3A5.31,5.31,0,0,0,4.9,8.1,5.31,5.31,0,0,0,1,6.5,5.31,5.31,0,0,0,4.9,4.9,5.31,5.31,0,0,0,6.5,1,5.31,5.31,0,0,0,8.1,4.9,5.31,5.31,0,0,0,12,6.5,5.46,5.46,0,0,0,6.5,12Z\"/>\n",
              "  </svg>\n",
              "    </button>\n",
              "    <script>\n",
              "      (() => {\n",
              "      const buttonEl =\n",
              "        document.querySelector('#id_d48d4c61-4b7c-4e6b-8a82-1904a4aa6250 button.colab-df-generate');\n",
              "      buttonEl.style.display =\n",
              "        google.colab.kernel.accessAllowed ? 'block' : 'none';\n",
              "\n",
              "      buttonEl.onclick = () => {\n",
              "        google.colab.notebook.generateWithVariable('random_df');\n",
              "      }\n",
              "      })();\n",
              "    </script>\n",
              "  </div>\n",
              "\n",
              "    </div>\n",
              "  </div>\n"
            ],
            "application/vnd.google.colaboratory.intrinsic+json": {
              "type": "dataframe",
              "variable_name": "random_df"
            }
          },
          "metadata": {},
          "execution_count": 56
        }
      ]
    },
    {
      "cell_type": "markdown",
      "source": [
        "# Adding amino acids with their correspodning codons so that we understand codon bias"
      ],
      "metadata": {
        "id": "K8aK6W-pLyNn"
      }
    },
    {
      "cell_type": "code",
      "source": [
        "# Standard codon table\n",
        "codon_table = CodonTable.unambiguous_dna_by_id[1]\n",
        "\n",
        "# Mapping of codons to amino acids (excluding stop codons)\n",
        "codon_to_aa = codon_table.forward_table\n",
        "\n",
        "all_codons = {f\"{aa}_{codon}\" for codon, aa in codon_to_aa.items()}\n",
        "\n",
        "def codon_count_per_aa(seq):\n",
        "    codons = [seq[i:i+3] for i in range(0, len(seq), 3)]\n",
        "    if seq.endswith(('TAA', 'TAG', 'TGA')):\n",
        "        num_codons = len(codons) - 1\n",
        "    else:\n",
        "        num_codons = len(codons)\n",
        "\n",
        "    codon_counts = {col: 0 for col in all_codons}\n",
        "\n",
        "    for codon in codons:\n",
        "        if codon in codon_to_aa:\n",
        "            aa = codon_to_aa[codon]\n",
        "            column_name = f\"{aa}_{codon}\"\n",
        "            codon_counts[column_name] += 1\n",
        "\n",
        "    # Normalize by the total number of codons\n",
        "    return {key: ((value / num_codons) * 100) if num_codons > 0 else 0 for key, value in codon_counts.items()}\n",
        "\n",
        "def add_codon_bias(df):\n",
        "    codon_results = []\n",
        "\n",
        "    for _, row in df.iterrows():\n",
        "        counts = codon_count_per_aa(row['Sequence'])\n",
        "        counts['ID'] = row['ID']  # Keep ID for merging\n",
        "        codon_results.append(counts)\n",
        "\n",
        "    codon_df = pd.DataFrame(codon_results).fillna(0)\n",
        "    return codon_df\n",
        "\n",
        "codon_df = add_codon_bias(amino_acid_df)\n",
        "complete_df = pd.merge(amino_acid_df, codon_df, on='ID')\n",
        "\n",
        "codon_pfds = add_codon_bias(prion_forming_domains)\n",
        "prion_forming_domains = pd.merge(prion_forming_domains, codon_pfds, on='ID')\n",
        "\n",
        "codon_non_pfds = add_codon_bias(non_prion_forming_domains)\n",
        "non_prion_forming_domains = pd.merge(non_prion_forming_domains, codon_non_pfds, on='ID')"
      ],
      "metadata": {
        "id": "MIyrMmvpLxDC"
      },
      "execution_count": null,
      "outputs": []
    },
    {
      "cell_type": "markdown",
      "source": [
        "# GC Content to be compared between the two gene groups."
      ],
      "metadata": {
        "id": "OLmxOuBNnoGh"
      }
    },
    {
      "cell_type": "code",
      "source": [
        "complete_df['GC_Content'] = complete_df['Gu'] + complete_df['Cy']\n",
        "prion_forming_domains['GC_Content'] = prion_forming_domains['Gu'] + prion_forming_domains['Cy']\n",
        "non_prion_forming_domains['GC_Content'] = non_prion_forming_domains['Gu'] + non_prion_forming_domains['Cy']"
      ],
      "metadata": {
        "id": "IzMAOmMimJCX"
      },
      "execution_count": null,
      "outputs": []
    },
    {
      "cell_type": "markdown",
      "source": [
        "# C and G in 1st or 2nd position codon frequency comparison."
      ],
      "metadata": {
        "id": "fzrjf6emDUf6"
      }
    },
    {
      "cell_type": "code",
      "source": [
        "def contains_in_first_or_second_pos(col_name, letter):\n",
        "    parts = col_name.split('_') # because this is how I named my columns\n",
        "    suffix = parts[1]\n",
        "    return letter in suffix[:2] # Check the first and second characters of the suffix\n",
        "\n",
        "def contains_in_third_pos(col_name, letter):\n",
        "    parts = col_name.split('_') # because this is how I named my columns\n",
        "    suffix = parts[1]\n",
        "    return letter in suffix[-1] # Check the last letter of the suffix (third nucleotide of any codon)\n",
        "\n",
        "# complete_df.iloc[:, 30:-1] --> This was used to slice only the columns with the codons\n",
        "# columns_with_c_at_first_or_second_pos = [col for col in complete_df.iloc[:, 30:-1].columns if contains_in_first_or_second_pos(col, 'C')]\n",
        "columns_with_c_at_third_pos = [col for col in complete_df.iloc[:, 30:91].columns if contains_in_third_pos(col, 'C')]\n",
        "\n",
        "# complete_df['Codons_with_c_at_first_or_second_pos'] = complete_df[columns_with_c_at_first_or_second_pos].sum(axis=1)\n",
        "complete_df['Codons_with_c_at_third_pos'] = complete_df[columns_with_c_at_third_pos].sum(axis=1)\n",
        "\n",
        "# prion_forming_domains['Codons_with_c_at_first_or_second_pos'] = prion_forming_domains[columns_with_c_at_first_or_second_pos].sum(axis=1)\n",
        "PrD_prions_df['Codons_with_c_at_third_pos'] = PrD_prions_df[columns_with_c_at_third_pos].sum(axis=1)\n",
        "\n",
        "# non_prion_forming_domains['Codons_with_c_at_first_or_second_pos'] = non_prion_forming_domains[columns_with_c_at_first_or_second_pos].sum(axis=1)\n",
        "non_PrD_prions_df['Codons_with_c_at_third_pos'] = non_PrD_prions_df[columns_with_c_at_third_pos].sum(axis=1)"
      ],
      "metadata": {
        "id": "SQjvKE3dnnDx"
      },
      "execution_count": null,
      "outputs": []
    },
    {
      "cell_type": "code",
      "source": [
        "columns_with_g_at_first_or_second_pos = [col for col in complete_df.iloc[:, 30:-3].columns if contains_in_first_or_second_pos(col, 'G')]\n",
        "columns_with_g_at_third_pos = [col for col in complete_df.iloc[:, 30:-3].columns if contains_in_third_pos(col, 'G')]\n",
        "\n",
        "# complete_df['Codons_with_g_at_first_or_second_pos'] = complete_df[columns_with_g_at_first_or_second_pos].sum(axis=1)\n",
        "complete_df['Codons_with_g_at_third_pos'] = complete_df[columns_with_g_at_third_pos].sum(axis=1)\n",
        "\n",
        "# PrD_prions_df['Codons_with_g_at_first_or_second_pos'] = PrD_prions_df[columns_with_g_at_first_or_second_pos].sum(axis=1)\n",
        "PrD_prions_df['Codons_with_g_at_third_pos'] = PrD_prions_df[columns_with_g_at_third_pos].sum(axis=1)\n",
        "\n",
        "# non_PrD_prions_df['Codons_with_g_at_first_or_second_pos'] = non_PrD_prions_df[columns_with_g_at_first_or_second_pos].sum(axis=1)\n",
        "non_PrD_prions_df['Codons_with_g_at_third_pos'] = non_PrD_prions_df[columns_with_g_at_third_pos].sum(axis=1)"
      ],
      "metadata": {
        "id": "avD7XOqNL3u6"
      },
      "execution_count": null,
      "outputs": []
    },
    {
      "cell_type": "markdown",
      "source": [
        "# **The correct idea is to run a statistical test N multiples times and plotting a distribution for whatever P values I get by doing the statistical test N times, each one of them made with different 15-randomly-chosen variables. Ideally, the p-value distribution plot should be right-skewed. That is, small p-values should be the most frequent, followed by average p-values, followed by large p-values. We can do this approach for whatever features we want to compare. Since judging visually for 20 amino acids may be tedious, we can resort to some numerical approach for \"averaging p-values\", yet doing a mean wouldn't be rigorous, we should instead work with something like a Benjamini Hochberg or something of similar type. For this, I need consultation.**\n",
        "\n"
      ],
      "metadata": {
        "id": "ISggqIMk7hfS"
      }
    },
    {
      "cell_type": "code",
      "source": [
        "# we remove all the non-numerical columns\n",
        "group_0 = complete_df[complete_df['Prion Formation'] == 0].iloc[:, 5:].drop('Protein Sequence', axis=1)\n",
        "group_1 = complete_df[complete_df['Prion Formation'] == 1].iloc[:, 5:].drop('Protein Sequence', axis=1)"
      ],
      "metadata": {
        "id": "UQ5jxaRf7wER"
      },
      "execution_count": null,
      "outputs": []
    },
    {
      "cell_type": "markdown",
      "source": [
        "**Kolmogorov-Smirnov works better for larger sample sizes.**"
      ],
      "metadata": {
        "id": "Ygt9GrmFR1sx"
      }
    },
    {
      "cell_type": "code",
      "source": [
        "stat, p = normaltest(group_0)\n",
        "print(\"Statistic: \", stat, \"| p-value: \", p, \"| Normal: \", p > 0.05)"
      ],
      "metadata": {
        "colab": {
          "base_uri": "https://localhost:8080/"
        },
        "collapsed": true,
        "id": "lETbAQWPOUli",
        "outputId": "98fd6ab5-7f71-4e60-c43a-f65ee1ec8a01"
      },
      "execution_count": null,
      "outputs": [
        {
          "output_type": "stream",
          "name": "stdout",
          "text": [
            "Statistic:  [  56.78564947  221.63870527  172.62201979  761.36202689 1972.68769739\n",
            " 4457.76681764 1502.94620658  245.78953477 4518.31787142 4370.29127741\n",
            "  767.09313427 1295.70542307 2445.42923709  244.09297706  229.05853293\n",
            " 1213.6727055  7464.19792587  891.46938558 1330.72771478 2893.45229273\n",
            " 3831.20587236 1464.82126278  535.58534382 2119.84308442 2402.07572239\n",
            " 2222.34011161  434.87782564 3416.63794873 3593.37858141 1733.2943522\n",
            " 1316.17388545 2308.76664519 3493.14679779 1986.89653827 3348.789457\n",
            "  680.63031313 3168.72897986  623.62496613 2735.40432595 1117.23638331\n",
            "  792.64277063 6224.09483678 1983.15861228 1235.4498454  1533.27956099\n",
            " 1604.21719448  175.66929342 2602.088179   1218.71733371 1584.33215931\n",
            " 1462.89784807  858.35899265 1466.65334149 2549.92315003 2055.20644625\n",
            " 3005.86641641  757.78858722  720.23172967 1041.33834157 1392.33041101\n",
            " 1063.15715403  709.60859633 4773.25666749 3141.82881353 1711.24057639\n",
            " 2003.72448522  967.95215815  705.71819975 1328.27270163  884.27627006\n",
            "  828.2214245  3503.40257883  377.0555256  1279.78433004  858.25955643\n",
            " 1792.21792983 2218.90860919 1360.3052023  1798.22454557 4516.3650476\n",
            " 1625.94978051 4153.61437416 2600.23601178 1160.3851187  7056.1849628\n",
            "  483.55437422 1194.26368129 1206.84996972   82.53313255   81.27314331] | p-value:  [4.66823694e-013 7.44331953e-049 3.27796773e-038 4.70258327e-166\n",
            " 0.00000000e+000 0.00000000e+000 0.00000000e+000 4.24112107e-054\n",
            " 0.00000000e+000 0.00000000e+000 2.67819590e-167 4.37665480e-282\n",
            " 0.00000000e+000 9.90566179e-054 1.82209727e-050 2.84656158e-264\n",
            " 0.00000000e+000 2.62955663e-194 1.08679662e-289 0.00000000e+000\n",
            " 0.00000000e+000 0.00000000e+000 5.00173058e-117 0.00000000e+000\n",
            " 0.00000000e+000 0.00000000e+000 3.69385643e-095 0.00000000e+000\n",
            " 0.00000000e+000 0.00000000e+000 1.57207102e-286 0.00000000e+000\n",
            " 0.00000000e+000 0.00000000e+000 0.00000000e+000 1.59589897e-148\n",
            " 0.00000000e+000 3.81556816e-136 0.00000000e+000 2.48428762e-243\n",
            " 7.58244551e-173 0.00000000e+000 0.00000000e+000 5.31465083e-269\n",
            " 0.00000000e+000 0.00000000e+000 7.14327903e-039 0.00000000e+000\n",
            " 2.28503830e-265 0.00000000e+000 0.00000000e+000 4.07111154e-187\n",
            " 0.00000000e+000 0.00000000e+000 0.00000000e+000 0.00000000e+000\n",
            " 2.80736617e-165 4.01482903e-157 7.52059551e-227 4.56344433e-303\n",
            " 1.37517290e-231 8.13675336e-155 0.00000000e+000 0.00000000e+000\n",
            " 0.00000000e+000 0.00000000e+000 6.48424602e-211 5.69167424e-154\n",
            " 3.70892123e-289 9.59064282e-193 1.42561669e-180 0.00000000e+000\n",
            " 1.32871834e-082 1.25419111e-278 4.27863560e-187 0.00000000e+000\n",
            " 0.00000000e+000 4.10656280e-296 0.00000000e+000 0.00000000e+000\n",
            " 0.00000000e+000 0.00000000e+000 0.00000000e+000 1.06065229e-252\n",
            " 0.00000000e+000 9.94264170e-106 4.66591303e-260 8.62698083e-263\n",
            " 1.19717594e-018 2.24781812e-018] | Normal:  [False False False False False False False False False False False False\n",
            " False False False False False False False False False False False False\n",
            " False False False False False False False False False False False False\n",
            " False False False False False False False False False False False False\n",
            " False False False False False False False False False False False False\n",
            " False False False False False False False False False False False False\n",
            " False False False False False False False False False False False False\n",
            " False False False False False False]\n"
          ]
        }
      ]
    },
    {
      "cell_type": "markdown",
      "source": [
        "**Shapiro-Wilk works better for smaller sample sizes. But the same conclusion according to KS as well**"
      ],
      "metadata": {
        "id": "MNwzXeCcR-mS"
      }
    },
    {
      "cell_type": "code",
      "source": [
        "for col in group_1.columns:\n",
        "   stat, p = shapiro(group_1[col])\n",
        "   print(\"Statistic: \", stat, \"| p-value: \", p, \"| Normal: \", p > 0.05)"
      ],
      "metadata": {
        "colab": {
          "base_uri": "https://localhost:8080/"
        },
        "collapsed": true,
        "id": "leioFy8mPsXa",
        "outputId": "509f950c-34be-41a5-8f5e-385354d72e24"
      },
      "execution_count": null,
      "outputs": [
        {
          "output_type": "stream",
          "name": "stdout",
          "text": [
            "Statistic:  0.9419873877229613 | p-value:  0.31327467724127034 | Normal:  True\n",
            "Statistic:  0.9677736665862744 | p-value:  0.7549365998549806 | Normal:  True\n",
            "Statistic:  0.9368731928732182 | p-value:  0.2560101550497389 | Normal:  True\n",
            "Statistic:  0.945436216795974 | p-value:  0.35796229827234594 | Normal:  True\n",
            "Statistic:  0.8627630602213407 | p-value:  0.01355021235686859 | Normal:  False\n",
            "Statistic:  0.963248589137117 | p-value:  0.6653507243622518 | Normal:  True\n",
            "Statistic:  0.9603894257643382 | p-value:  0.6091681783521498 | Normal:  True\n",
            "Statistic:  0.9693443216962612 | p-value:  0.7852709765087413 | Normal:  True\n",
            "Statistic:  0.804278908486873 | p-value:  0.001746782207535511 | Normal:  False\n",
            "Statistic:  0.8377801170757658 | p-value:  0.005466637087010149 | Normal:  False\n",
            "Statistic:  0.9334136948604996 | p-value:  0.22288452833653138 | Normal:  True\n",
            "Statistic:  0.7722557072796417 | p-value:  0.0006322649929741525 | Normal:  False\n",
            "Statistic:  0.8529101059901651 | p-value:  0.009415756942668831 | Normal:  False\n",
            "Statistic:  0.9354986017934629 | p-value:  0.2423346190633741 | Normal:  True\n",
            "Statistic:  0.9268101911866069 | p-value:  0.17061091553072966 | Normal:  True\n",
            "Statistic:  0.9509263779877973 | p-value:  0.4397341608011481 | Normal:  True\n",
            "Statistic:  0.9268857440236176 | p-value:  0.1711357715749912 | Normal:  True\n",
            "Statistic:  0.9785978099703272 | p-value:  0.9343947298588603 | Normal:  True\n",
            "Statistic:  0.9579017969970645 | p-value:  0.5616823764474381 | Normal:  True\n",
            "Statistic:  0.9663333939593035 | p-value:  0.7266099236370083 | Normal:  True\n",
            "Statistic:  0.9581507061026102 | p-value:  0.5663566014933861 | Normal:  True\n",
            "Statistic:  0.9436332240810139 | p-value:  0.33396812016297894 | Normal:  True\n",
            "Statistic:  0.9035101671359627 | p-value:  0.06616713653897537 | Normal:  True\n",
            "Statistic:  0.9828906459130621 | p-value:  0.9748521509971673 | Normal:  True\n",
            "Statistic:  0.9268857440236176 | p-value:  0.1711357715749912 | Normal:  True\n",
            "Statistic:  0.8516816831910285 | p-value:  0.009002955215826097 | Normal:  False\n",
            "Statistic:  0.9613729783088235 | p-value:  0.6283476032980713 | Normal:  True\n",
            "Statistic:  0.9195111430009414 | p-value:  0.1267204523642147 | Normal:  True\n",
            "Statistic:  0.9673310997645732 | p-value:  0.7462725941620237 | Normal:  True\n",
            "Statistic:  0.9313020078982064 | p-value:  0.20469153809629131 | Normal:  True\n",
            "Statistic:  0.908038751629699 | p-value:  0.07945566838828788 | Normal:  True\n",
            "Statistic:  0.8743382852684556 | p-value:  0.020991128142618415 | Normal:  False\n",
            "Statistic:  0.8449035394790667 | p-value:  0.007045380272170068 | Normal:  False\n",
            "Statistic:  0.7600949593744643 | p-value:  0.0004373072026732843 | Normal:  False\n",
            "Statistic:  0.9529453710490264 | p-value:  0.4730715360205669 | Normal:  True\n",
            "Statistic:  0.7743263801789092 | p-value:  0.0006738397857575684 | Normal:  False\n",
            "Statistic:  0.9325720510109146 | p-value:  0.2154568474953536 | Normal:  True\n",
            "Statistic:  0.8827850079449172 | p-value:  0.0290848470802918 | Normal:  False\n",
            "Statistic:  0.7973246340891808 | p-value:  0.001392663904088967 | Normal:  False\n",
            "Statistic:  0.9753390290328905 | p-value:  0.8898368060862073 | Normal:  True\n",
            "Statistic:  0.9407241415514113 | p-value:  0.29815744393322774 | Normal:  True\n",
            "Statistic:  0.9677888219238164 | p-value:  0.7552325293288706 | Normal:  True\n",
            "Statistic:  0.8973753448675339 | p-value:  0.051726363988433485 | Normal:  True\n",
            "Statistic:  0.9038183915781945 | p-value:  0.06699439662628619 | Normal:  True\n",
            "Statistic:  0.8798363897232456 | p-value:  0.02593894354554875 | Normal:  False\n",
            "Statistic:  0.9051712821228955 | p-value:  0.07075355738908606 | Normal:  True\n",
            "Statistic:  0.9614348425508531 | p-value:  0.6295600662431116 | Normal:  True\n",
            "Statistic:  0.8639434080038404 | p-value:  0.014161674481092653 | Normal:  False\n",
            "Statistic:  0.9848065116134747 | p-value:  0.9859235055214441 | Normal:  True\n",
            "Statistic:  0.884249692522924 | p-value:  0.030794170035808872 | Normal:  False\n",
            "Statistic:  0.9039421639042832 | p-value:  0.06732959108300875 | Normal:  True\n",
            "Statistic:  0.9798018800905387 | p-value:  0.9479449004694988 | Normal:  True\n",
            "Statistic:  0.9436332240810139 | p-value:  0.33396812016297894 | Normal:  True\n",
            "Statistic:  0.7954272063008544 | p-value:  0.0013099465876123548 | Normal:  False\n",
            "Statistic:  0.9340949138967005 | p-value:  0.22907261493366537 | Normal:  True\n",
            "Statistic:  0.8343761561101914 | p-value:  0.0048493475451326104 | Normal:  False\n",
            "Statistic:  0.9710658355695282 | p-value:  0.8174796289339417 | Normal:  True\n",
            "Statistic:  0.7496071833054454 | p-value:  0.0003204620623836596 | Normal:  False\n",
            "Statistic:  0.9435113333208153 | p-value:  0.3323963025339174 | Normal:  True\n",
            "Statistic:  0.9561163605156743 | p-value:  0.5287373754957474 | Normal:  True\n",
            "Statistic:  0.962621859400788 | p-value:  0.6529380733111708 | Normal:  True\n",
            "Statistic:  0.9907507179452092 | p-value:  0.9992851488581941 | Normal:  True\n",
            "Statistic:  0.7086777700254783 | p-value:  0.00010091356936530043 | Normal:  False\n",
            "Statistic:  0.9310440895215495 | p-value:  0.20256889472592465 | Normal:  True\n",
            "Statistic:  0.919400182937288 | p-value:  0.1261482828288551 | Normal:  True\n",
            "Statistic:  0.9240326374423412 | p-value:  0.1523730079555362 | Normal:  True\n",
            "Statistic:  0.9380652480345767 | p-value:  0.2684404969380836 | Normal:  True\n",
            "Statistic:  0.9107044656256067 | p-value:  0.08852986137016704 | Normal:  True\n",
            "Statistic:  0.9225173883802005 | p-value:  0.14324797766722702 | Normal:  True\n",
            "Statistic:  0.9491230011260263 | p-value:  0.4114254508802693 | Normal:  True\n",
            "Statistic:  0.9632196978475459 | p-value:  0.6647777389135175 | Normal:  True\n",
            "Statistic:  0.7445161008739779 | p-value:  0.00027620288955476163 | Normal:  False\n",
            "Statistic:  0.973991844246319 | p-value:  0.8684723159418831 | Normal:  True\n",
            "Statistic:  0.9246489618716853 | p-value:  0.15624678543381143 | Normal:  True\n",
            "Statistic:  0.9269801564867763 | p-value:  0.17179385832553667 | Normal:  True\n",
            "Statistic:  0.8532748317826303 | p-value:  0.009542150389711691 | Normal:  False\n",
            "Statistic:  0.9179132073215677 | p-value:  0.11872592606720372 | Normal:  True\n",
            "Statistic:  0.9372453105283174 | p-value:  0.25983271677296016 | Normal:  True\n",
            "Statistic:  0.8746640972257899 | p-value:  0.021254644436265516 | Normal:  False\n",
            "Statistic:  0.8603444985668391 | p-value:  0.012382915943802194 | Normal:  False\n",
            "Statistic:  0.8852529302379033 | p-value:  0.03202556412078082 | Normal:  False\n",
            "Statistic:  0.7671107408386455 | p-value:  0.0005403565232462525 | Normal:  False\n",
            "Statistic:  0.8322521144119038 | p-value:  0.004502069264435145 | Normal:  False\n",
            "Statistic:  0.9188287188451911 | p-value:  0.12324223612855262 | Normal:  True\n",
            "Statistic:  0.8289378408149253 | p-value:  0.0040120028495321544 | Normal:  False\n",
            "Statistic:  0.9699182218826882 | p-value:  0.7961495483800675 | Normal:  True\n",
            "Statistic:  0.936720894676519 | p-value:  0.2544606309581997 | Normal:  True\n",
            "Statistic:  0.9367208946765193 | p-value:  0.2544606309582034 | Normal:  True\n",
            "Statistic:  0.9332026366476311 | p-value:  0.22099948884106713 | Normal:  True\n",
            "Statistic:  0.9332026366476305 | p-value:  0.22099948884106108 | Normal:  True\n"
          ]
        }
      ]
    },
    {
      "cell_type": "code",
      "source": [
        "stat, p = normaltest(group_1)\n",
        "print(\"Statistic: \", stat, \"| p-value: \", p, \"| Normal: \", p > 0.05)"
      ],
      "metadata": {
        "colab": {
          "base_uri": "https://localhost:8080/"
        },
        "collapsed": true,
        "id": "OKi7YgM3SIs0",
        "outputId": "c5211ffb-c0c1-411b-f237-7d89ac9e5829"
      },
      "execution_count": null,
      "outputs": [
        {
          "output_type": "stream",
          "name": "stdout",
          "text": [
            "Statistic:  [1.26533125e+00 3.39127528e-01 2.77214418e+00 1.60900801e+00\n",
            " 1.54007945e+01 1.29636062e+00 3.53094833e-01 8.70773412e-03\n",
            " 2.11144234e+01 9.29395009e+00 2.99350064e+00 2.39323496e+01\n",
            " 1.20133036e+01 6.43150091e+00 1.87725227e+00 1.36839838e+00\n",
            " 2.81941224e+00 7.81083346e-02 3.27957129e+00 8.37403594e-01\n",
            " 2.73501303e-01 3.55130512e+00 4.44048950e+00 3.56436393e-02\n",
            " 2.81941224e+00 6.15836102e+00 9.39247119e-01 2.00496229e+00\n",
            " 1.37148845e+00 6.26813351e+00 2.63300341e+00 3.04841235e+00\n",
            " 6.04654634e+00 1.23749836e+01 7.88093224e-01 2.50169008e+01\n",
            " 2.53522133e+00 3.40025992e+00 1.07567986e+01 7.39572308e-01\n",
            " 2.73250346e+00 5.46159492e-01 9.19867155e+00 1.85336341e+00\n",
            " 7.81651909e+00 8.66352635e+00 6.38234236e-02 8.83508426e+00\n",
            " 5.30265687e-01 8.31851735e+00 2.80341528e+00 5.65115763e-01\n",
            " 3.55130512e+00 1.48772956e+01 1.49612604e+00 8.73019125e+00\n",
            " 7.58441007e-01 1.87229533e+01 1.00929426e+00 1.20626274e+00\n",
            " 2.30645848e-01 5.19611268e-01 4.37762284e+00 3.38216743e+00\n",
            " 6.04427302e+00 3.30206472e+00 2.26907269e+00 4.51827055e+00\n",
            " 3.82920383e+00 6.57236401e-01 3.37261878e-01 2.68218907e+01\n",
            " 9.28548258e-02 5.03854686e+00 2.09589269e+00 1.26205845e+01\n",
            " 2.79562778e+00 1.80326878e+00 5.49255976e+00 2.84270304e+00\n",
            " 3.10632334e+00 1.63978373e+01 2.92241332e+00 3.63582518e+00\n",
            " 9.44762897e+00 1.45550622e+00 2.18517944e+00 2.18517944e+00\n",
            " 1.74107848e+00 1.74107848e+00] | p-value:  [5.31174003e-01 8.44032934e-01 2.50055574e-01 4.47309735e-01\n",
            " 4.52647330e-04 5.22996604e-01 8.38159036e-01 9.95655597e-01\n",
            " 2.60052611e-05 9.59056912e-03 2.23856442e-01 6.35559637e-06\n",
            " 2.46231872e-03 4.01252103e-02 3.91164874e-01 5.04494071e-01\n",
            " 2.44215042e-01 9.61698615e-01 1.94021627e-01 6.57900354e-01\n",
            " 8.72187678e-01 1.69372888e-01 1.08582530e-01 9.82336050e-01\n",
            " 2.44215042e-01 4.59969352e-02 6.25237589e-01 3.66967811e-01\n",
            " 5.03715214e-01 4.35403687e-02 2.68071456e-01 2.17793879e-01\n",
            " 4.86417449e-02 2.05497463e-03 6.74322624e-01 3.69529408e-06\n",
            " 2.81503425e-01 1.82659784e-01 4.61520368e-03 6.90882057e-01\n",
            " 2.55061208e-01 7.61032096e-01 1.00585146e-02 3.95865131e-01\n",
            " 2.00754111e-02 1.31443513e-02 9.68592094e-01 1.20638472e-02\n",
            " 7.67104039e-01 1.56191325e-02 2.46176224e-01 7.53853007e-01\n",
            " 1.69372888e-01 5.88079856e-04 4.73282403e-01 1.27134394e-02\n",
            " 6.84394685e-01 8.59730542e-05 6.03718573e-01 5.47095791e-01\n",
            " 8.91078347e-01 7.71201466e-01 1.12049850e-01 1.84319665e-01\n",
            " 4.86970654e-02 1.91851746e-01 3.21571185e-01 1.04440758e-01\n",
            " 1.47400499e-01 7.19917828e-01 8.44820636e-01 1.49865076e-06\n",
            " 9.54633852e-01 8.05180874e-02 3.50657139e-01 1.81750197e-03\n",
            " 2.47136641e-01 4.05905710e-01 6.41661235e-02 2.41387557e-01\n",
            " 2.11577975e-01 2.74950724e-04 2.31956214e-01 1.62364318e-01\n",
            " 8.88123651e-03 4.82993005e-01 3.35346914e-01 3.35346914e-01\n",
            " 4.18725696e-01 4.18725696e-01] | Normal:  [ True  True  True  True False  True  True  True False False  True False\n",
            " False False  True  True  True  True  True  True  True  True  True  True\n",
            "  True False  True  True  True False  True  True False False  True False\n",
            "  True  True False  True  True  True False  True False False  True False\n",
            "  True False  True  True  True False  True False  True False  True  True\n",
            "  True  True  True  True False  True  True  True  True  True  True False\n",
            "  True  True  True False  True  True  True  True  True False  True  True\n",
            " False  True  True  True  True  True]\n"
          ]
        },
        {
          "output_type": "stream",
          "name": "stderr",
          "text": [
            "/usr/local/lib/python3.11/dist-packages/scipy/stats/_axis_nan_policy.py:563: UserWarning: kurtosistest only valid for n>=20 ... continuing anyway, n=18\n",
            "  res = hypotest_fun_out(*samples, axis=axis, **kwds)\n"
          ]
        }
      ]
    },
    {
      "cell_type": "markdown",
      "source": [
        "# Since all columns in the non-prion-forming group are not normally distributed, we will have to resort to using a non-parameteric test. In this case, I will use Mann-Whitney U test, also known as Wilcoxon."
      ],
      "metadata": {
        "id": "qV9OozYSSNeO"
      }
    },
    {
      "cell_type": "code",
      "source": [
        "group_0 = prion_non_prion_df[prion_non_prion_df['Prion Formation'] == 0].iloc[:, 4:].drop('Protein Sequence', axis=1)\n",
        "group_1 = PrD_prions_df.iloc[:, 4:]"
      ],
      "metadata": {
        "id": "OkEGD7e8763S"
      },
      "execution_count": null,
      "outputs": []
    },
    {
      "cell_type": "code",
      "source": [
        "save_dir = '/content/drive/MyDrive/Lin Chen Rotation/Statistical Comparisons/PrDs of Prions vs. Non-Prions (13 PrD of prions against 13 random non-prions; N iterations)'\n",
        "if not os.path.exists(save_dir):\n",
        "    os.makedirs(save_dir)\n",
        "\n",
        "results_dict = {col: {'p_values': [], 'higher_group': []} for col in group_0.columns}\n",
        "\n",
        "for _ in range(10000): # number of iterations (comparisons)\n",
        "    random_group_0 = random_sample(group_0, 13)\n",
        "\n",
        "    for col in group_0.columns:\n",
        "      stat, p = mannwhitneyu(random_group_0[col], group_1[col], alternative='two-sided')\n",
        "      results_dict[col]['p_values'].append(p)\n",
        "\n",
        "      # Determine which group has higher values on average (median) in this iteration\n",
        "      if random_group_0[col].median() > group_1[col].median():\n",
        "        results_dict[col]['higher_group'].append('Non-prion-forming genes')\n",
        "      else:\n",
        "        results_dict[col]['higher_group'].append('Prion-forming genes')\n",
        "\n",
        "for col, res in results_dict.items():\n",
        "    p_values = np.array(res['p_values'])\n",
        "    higher_group = np.array(res['higher_group'])\n",
        "    num_significant = np.sum(p_values < 0.05)\n",
        "\n",
        "    plt.figure(figsize=(12, 8))\n",
        "\n",
        "    p_values_g0 = p_values[higher_group == 'Non-prion-forming genes']\n",
        "    p_values_g1 = p_values[higher_group == 'Prion-forming genes']\n",
        "\n",
        "    plt.hist(p_values_g0, bins=30, alpha=0.7, color='blue', label='Non-prion-forming genes > Prion-forming genes', edgecolor='black')\n",
        "    plt.hist(p_values_g1, bins=30, alpha=0.7, color='red', label='Prion-forming genes > Non-prion-forming genes', edgecolor='black')\n",
        "\n",
        "    plt.axvline(0.05, color='black', linestyle='--', label='p = 0.05')\n",
        "\n",
        "\n",
        "    plt.title(f'P-Value Distribution for {col}')\n",
        "    plt.xlabel('P-Value')\n",
        "    plt.ylabel('Frequency')\n",
        "    plt.legend()\n",
        "    plt.grid(axis='y', linestyle='--', alpha=0.7)\n",
        "\n",
        "    y_max = plt.gca().get_ylim()[1]\n",
        "\n",
        "    plt.text(0.1, y_max * 0.95, f'Significant p-values: {num_significant}',\n",
        "         fontsize=12, color='black', bbox=dict(facecolor='white', alpha=0.6, edgecolor='black'))\n",
        "\n",
        "\n",
        "    plt.savefig(os.path.join(save_dir, f'{col}_p_val_distribution.png'))\n",
        "\n",
        "    plt.clf()\n",
        "    # plt.show()"
      ],
      "metadata": {
        "id": "lXvO36BGcg2K",
        "colab": {
          "base_uri": "https://localhost:8080/",
          "height": 1000
        },
        "outputId": "20d934cc-360b-4d8c-e78b-469f989bfacb"
      },
      "execution_count": null,
      "outputs": [
        {
          "output_type": "stream",
          "name": "stderr",
          "text": [
            "<ipython-input-64-a2fd7d2877e6>:25: RuntimeWarning: More than 20 figures have been opened. Figures created through the pyplot interface (`matplotlib.pyplot.figure`) are retained until explicitly closed and may consume too much memory. (To control this warning, see the rcParam `figure.max_open_warning`). Consider using `matplotlib.pyplot.close()`.\n",
            "  plt.figure(figsize=(12, 8))\n"
          ]
        },
        {
          "output_type": "display_data",
          "data": {
            "text/plain": [
              "<Figure size 1200x800 with 0 Axes>"
            ]
          },
          "metadata": {}
        },
        {
          "output_type": "display_data",
          "data": {
            "text/plain": [
              "<Figure size 1200x800 with 0 Axes>"
            ]
          },
          "metadata": {}
        },
        {
          "output_type": "display_data",
          "data": {
            "text/plain": [
              "<Figure size 1200x800 with 0 Axes>"
            ]
          },
          "metadata": {}
        },
        {
          "output_type": "display_data",
          "data": {
            "text/plain": [
              "<Figure size 1200x800 with 0 Axes>"
            ]
          },
          "metadata": {}
        },
        {
          "output_type": "display_data",
          "data": {
            "text/plain": [
              "<Figure size 1200x800 with 0 Axes>"
            ]
          },
          "metadata": {}
        },
        {
          "output_type": "display_data",
          "data": {
            "text/plain": [
              "<Figure size 1200x800 with 0 Axes>"
            ]
          },
          "metadata": {}
        },
        {
          "output_type": "display_data",
          "data": {
            "text/plain": [
              "<Figure size 1200x800 with 0 Axes>"
            ]
          },
          "metadata": {}
        },
        {
          "output_type": "display_data",
          "data": {
            "text/plain": [
              "<Figure size 1200x800 with 0 Axes>"
            ]
          },
          "metadata": {}
        },
        {
          "output_type": "display_data",
          "data": {
            "text/plain": [
              "<Figure size 1200x800 with 0 Axes>"
            ]
          },
          "metadata": {}
        },
        {
          "output_type": "display_data",
          "data": {
            "text/plain": [
              "<Figure size 1200x800 with 0 Axes>"
            ]
          },
          "metadata": {}
        },
        {
          "output_type": "display_data",
          "data": {
            "text/plain": [
              "<Figure size 1200x800 with 0 Axes>"
            ]
          },
          "metadata": {}
        },
        {
          "output_type": "display_data",
          "data": {
            "text/plain": [
              "<Figure size 1200x800 with 0 Axes>"
            ]
          },
          "metadata": {}
        },
        {
          "output_type": "display_data",
          "data": {
            "text/plain": [
              "<Figure size 1200x800 with 0 Axes>"
            ]
          },
          "metadata": {}
        },
        {
          "output_type": "display_data",
          "data": {
            "text/plain": [
              "<Figure size 1200x800 with 0 Axes>"
            ]
          },
          "metadata": {}
        },
        {
          "output_type": "display_data",
          "data": {
            "text/plain": [
              "<Figure size 1200x800 with 0 Axes>"
            ]
          },
          "metadata": {}
        },
        {
          "output_type": "display_data",
          "data": {
            "text/plain": [
              "<Figure size 1200x800 with 0 Axes>"
            ]
          },
          "metadata": {}
        },
        {
          "output_type": "display_data",
          "data": {
            "text/plain": [
              "<Figure size 1200x800 with 0 Axes>"
            ]
          },
          "metadata": {}
        },
        {
          "output_type": "display_data",
          "data": {
            "text/plain": [
              "<Figure size 1200x800 with 0 Axes>"
            ]
          },
          "metadata": {}
        },
        {
          "output_type": "display_data",
          "data": {
            "text/plain": [
              "<Figure size 1200x800 with 0 Axes>"
            ]
          },
          "metadata": {}
        },
        {
          "output_type": "display_data",
          "data": {
            "text/plain": [
              "<Figure size 1200x800 with 0 Axes>"
            ]
          },
          "metadata": {}
        },
        {
          "output_type": "display_data",
          "data": {
            "text/plain": [
              "<Figure size 1200x800 with 0 Axes>"
            ]
          },
          "metadata": {}
        },
        {
          "output_type": "display_data",
          "data": {
            "text/plain": [
              "<Figure size 1200x800 with 0 Axes>"
            ]
          },
          "metadata": {}
        },
        {
          "output_type": "display_data",
          "data": {
            "text/plain": [
              "<Figure size 1200x800 with 0 Axes>"
            ]
          },
          "metadata": {}
        },
        {
          "output_type": "display_data",
          "data": {
            "text/plain": [
              "<Figure size 1200x800 with 0 Axes>"
            ]
          },
          "metadata": {}
        },
        {
          "output_type": "display_data",
          "data": {
            "text/plain": [
              "<Figure size 1200x800 with 0 Axes>"
            ]
          },
          "metadata": {}
        },
        {
          "output_type": "display_data",
          "data": {
            "text/plain": [
              "<Figure size 1200x800 with 0 Axes>"
            ]
          },
          "metadata": {}
        },
        {
          "output_type": "display_data",
          "data": {
            "text/plain": [
              "<Figure size 1200x800 with 0 Axes>"
            ]
          },
          "metadata": {}
        },
        {
          "output_type": "display_data",
          "data": {
            "text/plain": [
              "<Figure size 1200x800 with 0 Axes>"
            ]
          },
          "metadata": {}
        },
        {
          "output_type": "display_data",
          "data": {
            "text/plain": [
              "<Figure size 1200x800 with 0 Axes>"
            ]
          },
          "metadata": {}
        },
        {
          "output_type": "display_data",
          "data": {
            "text/plain": [
              "<Figure size 1200x800 with 0 Axes>"
            ]
          },
          "metadata": {}
        },
        {
          "output_type": "display_data",
          "data": {
            "text/plain": [
              "<Figure size 1200x800 with 0 Axes>"
            ]
          },
          "metadata": {}
        },
        {
          "output_type": "display_data",
          "data": {
            "text/plain": [
              "<Figure size 1200x800 with 0 Axes>"
            ]
          },
          "metadata": {}
        },
        {
          "output_type": "display_data",
          "data": {
            "text/plain": [
              "<Figure size 1200x800 with 0 Axes>"
            ]
          },
          "metadata": {}
        },
        {
          "output_type": "display_data",
          "data": {
            "text/plain": [
              "<Figure size 1200x800 with 0 Axes>"
            ]
          },
          "metadata": {}
        },
        {
          "output_type": "display_data",
          "data": {
            "text/plain": [
              "<Figure size 1200x800 with 0 Axes>"
            ]
          },
          "metadata": {}
        },
        {
          "output_type": "display_data",
          "data": {
            "text/plain": [
              "<Figure size 1200x800 with 0 Axes>"
            ]
          },
          "metadata": {}
        },
        {
          "output_type": "display_data",
          "data": {
            "text/plain": [
              "<Figure size 1200x800 with 0 Axes>"
            ]
          },
          "metadata": {}
        },
        {
          "output_type": "display_data",
          "data": {
            "text/plain": [
              "<Figure size 1200x800 with 0 Axes>"
            ]
          },
          "metadata": {}
        },
        {
          "output_type": "display_data",
          "data": {
            "text/plain": [
              "<Figure size 1200x800 with 0 Axes>"
            ]
          },
          "metadata": {}
        },
        {
          "output_type": "display_data",
          "data": {
            "text/plain": [
              "<Figure size 1200x800 with 0 Axes>"
            ]
          },
          "metadata": {}
        },
        {
          "output_type": "display_data",
          "data": {
            "text/plain": [
              "<Figure size 1200x800 with 0 Axes>"
            ]
          },
          "metadata": {}
        },
        {
          "output_type": "display_data",
          "data": {
            "text/plain": [
              "<Figure size 1200x800 with 0 Axes>"
            ]
          },
          "metadata": {}
        },
        {
          "output_type": "display_data",
          "data": {
            "text/plain": [
              "<Figure size 1200x800 with 0 Axes>"
            ]
          },
          "metadata": {}
        },
        {
          "output_type": "display_data",
          "data": {
            "text/plain": [
              "<Figure size 1200x800 with 0 Axes>"
            ]
          },
          "metadata": {}
        },
        {
          "output_type": "display_data",
          "data": {
            "text/plain": [
              "<Figure size 1200x800 with 0 Axes>"
            ]
          },
          "metadata": {}
        },
        {
          "output_type": "display_data",
          "data": {
            "text/plain": [
              "<Figure size 1200x800 with 0 Axes>"
            ]
          },
          "metadata": {}
        },
        {
          "output_type": "display_data",
          "data": {
            "text/plain": [
              "<Figure size 1200x800 with 0 Axes>"
            ]
          },
          "metadata": {}
        },
        {
          "output_type": "display_data",
          "data": {
            "text/plain": [
              "<Figure size 1200x800 with 0 Axes>"
            ]
          },
          "metadata": {}
        },
        {
          "output_type": "display_data",
          "data": {
            "text/plain": [
              "<Figure size 1200x800 with 0 Axes>"
            ]
          },
          "metadata": {}
        },
        {
          "output_type": "display_data",
          "data": {
            "text/plain": [
              "<Figure size 1200x800 with 0 Axes>"
            ]
          },
          "metadata": {}
        },
        {
          "output_type": "display_data",
          "data": {
            "text/plain": [
              "<Figure size 1200x800 with 0 Axes>"
            ]
          },
          "metadata": {}
        },
        {
          "output_type": "display_data",
          "data": {
            "text/plain": [
              "<Figure size 1200x800 with 0 Axes>"
            ]
          },
          "metadata": {}
        },
        {
          "output_type": "display_data",
          "data": {
            "text/plain": [
              "<Figure size 1200x800 with 0 Axes>"
            ]
          },
          "metadata": {}
        },
        {
          "output_type": "display_data",
          "data": {
            "text/plain": [
              "<Figure size 1200x800 with 0 Axes>"
            ]
          },
          "metadata": {}
        },
        {
          "output_type": "display_data",
          "data": {
            "text/plain": [
              "<Figure size 1200x800 with 0 Axes>"
            ]
          },
          "metadata": {}
        },
        {
          "output_type": "display_data",
          "data": {
            "text/plain": [
              "<Figure size 1200x800 with 0 Axes>"
            ]
          },
          "metadata": {}
        },
        {
          "output_type": "display_data",
          "data": {
            "text/plain": [
              "<Figure size 1200x800 with 0 Axes>"
            ]
          },
          "metadata": {}
        },
        {
          "output_type": "display_data",
          "data": {
            "text/plain": [
              "<Figure size 1200x800 with 0 Axes>"
            ]
          },
          "metadata": {}
        },
        {
          "output_type": "display_data",
          "data": {
            "text/plain": [
              "<Figure size 1200x800 with 0 Axes>"
            ]
          },
          "metadata": {}
        },
        {
          "output_type": "display_data",
          "data": {
            "text/plain": [
              "<Figure size 1200x800 with 0 Axes>"
            ]
          },
          "metadata": {}
        },
        {
          "output_type": "display_data",
          "data": {
            "text/plain": [
              "<Figure size 1200x800 with 0 Axes>"
            ]
          },
          "metadata": {}
        },
        {
          "output_type": "display_data",
          "data": {
            "text/plain": [
              "<Figure size 1200x800 with 0 Axes>"
            ]
          },
          "metadata": {}
        },
        {
          "output_type": "display_data",
          "data": {
            "text/plain": [
              "<Figure size 1200x800 with 0 Axes>"
            ]
          },
          "metadata": {}
        },
        {
          "output_type": "display_data",
          "data": {
            "text/plain": [
              "<Figure size 1200x800 with 0 Axes>"
            ]
          },
          "metadata": {}
        },
        {
          "output_type": "display_data",
          "data": {
            "text/plain": [
              "<Figure size 1200x800 with 0 Axes>"
            ]
          },
          "metadata": {}
        },
        {
          "output_type": "display_data",
          "data": {
            "text/plain": [
              "<Figure size 1200x800 with 0 Axes>"
            ]
          },
          "metadata": {}
        },
        {
          "output_type": "display_data",
          "data": {
            "text/plain": [
              "<Figure size 1200x800 with 0 Axes>"
            ]
          },
          "metadata": {}
        },
        {
          "output_type": "display_data",
          "data": {
            "text/plain": [
              "<Figure size 1200x800 with 0 Axes>"
            ]
          },
          "metadata": {}
        },
        {
          "output_type": "display_data",
          "data": {
            "text/plain": [
              "<Figure size 1200x800 with 0 Axes>"
            ]
          },
          "metadata": {}
        },
        {
          "output_type": "display_data",
          "data": {
            "text/plain": [
              "<Figure size 1200x800 with 0 Axes>"
            ]
          },
          "metadata": {}
        },
        {
          "output_type": "display_data",
          "data": {
            "text/plain": [
              "<Figure size 1200x800 with 0 Axes>"
            ]
          },
          "metadata": {}
        },
        {
          "output_type": "display_data",
          "data": {
            "text/plain": [
              "<Figure size 1200x800 with 0 Axes>"
            ]
          },
          "metadata": {}
        },
        {
          "output_type": "display_data",
          "data": {
            "text/plain": [
              "<Figure size 1200x800 with 0 Axes>"
            ]
          },
          "metadata": {}
        },
        {
          "output_type": "display_data",
          "data": {
            "text/plain": [
              "<Figure size 1200x800 with 0 Axes>"
            ]
          },
          "metadata": {}
        },
        {
          "output_type": "display_data",
          "data": {
            "text/plain": [
              "<Figure size 1200x800 with 0 Axes>"
            ]
          },
          "metadata": {}
        },
        {
          "output_type": "display_data",
          "data": {
            "text/plain": [
              "<Figure size 1200x800 with 0 Axes>"
            ]
          },
          "metadata": {}
        },
        {
          "output_type": "display_data",
          "data": {
            "text/plain": [
              "<Figure size 1200x800 with 0 Axes>"
            ]
          },
          "metadata": {}
        },
        {
          "output_type": "display_data",
          "data": {
            "text/plain": [
              "<Figure size 1200x800 with 0 Axes>"
            ]
          },
          "metadata": {}
        },
        {
          "output_type": "display_data",
          "data": {
            "text/plain": [
              "<Figure size 1200x800 with 0 Axes>"
            ]
          },
          "metadata": {}
        },
        {
          "output_type": "display_data",
          "data": {
            "text/plain": [
              "<Figure size 1200x800 with 0 Axes>"
            ]
          },
          "metadata": {}
        },
        {
          "output_type": "display_data",
          "data": {
            "text/plain": [
              "<Figure size 1200x800 with 0 Axes>"
            ]
          },
          "metadata": {}
        },
        {
          "output_type": "display_data",
          "data": {
            "text/plain": [
              "<Figure size 1200x800 with 0 Axes>"
            ]
          },
          "metadata": {}
        },
        {
          "output_type": "display_data",
          "data": {
            "text/plain": [
              "<Figure size 1200x800 with 0 Axes>"
            ]
          },
          "metadata": {}
        },
        {
          "output_type": "display_data",
          "data": {
            "text/plain": [
              "<Figure size 1200x800 with 0 Axes>"
            ]
          },
          "metadata": {}
        },
        {
          "output_type": "display_data",
          "data": {
            "text/plain": [
              "<Figure size 1200x800 with 0 Axes>"
            ]
          },
          "metadata": {}
        },
        {
          "output_type": "display_data",
          "data": {
            "text/plain": [
              "<Figure size 1200x800 with 0 Axes>"
            ]
          },
          "metadata": {}
        },
        {
          "output_type": "display_data",
          "data": {
            "text/plain": [
              "<Figure size 1200x800 with 0 Axes>"
            ]
          },
          "metadata": {}
        },
        {
          "output_type": "display_data",
          "data": {
            "text/plain": [
              "<Figure size 1200x800 with 0 Axes>"
            ]
          },
          "metadata": {}
        },
        {
          "output_type": "display_data",
          "data": {
            "text/plain": [
              "<Figure size 1200x800 with 0 Axes>"
            ]
          },
          "metadata": {}
        },
        {
          "output_type": "display_data",
          "data": {
            "text/plain": [
              "<Figure size 1200x800 with 0 Axes>"
            ]
          },
          "metadata": {}
        }
      ]
    },
    {
      "cell_type": "markdown",
      "source": [
        "# Checking correlation between amino acids in prions"
      ],
      "metadata": {
        "id": "jG_ZEinJ62QC"
      }
    },
    {
      "cell_type": "code",
      "source": [
        "amino_acids_prions = group_1.iloc[:, 4:24]\n",
        "column_names = amino_acids_prions.columns\n",
        "n_cols = len(column_names)\n",
        "correlations = np.full((n_cols, n_cols), np.nan)\n",
        "p_values = np.full((n_cols, n_cols), np.nan)\n",
        "\n",
        "for i in range(len(column_names)):\n",
        "    for j in range(i+1, len(column_names)):\n",
        "          corr, p = pearsonr(amino_acids_prions.iloc[:, i], amino_acids_prions.iloc[:, j])\n",
        "          correlations[i, j] = corr\n",
        "          p_values[i, j] = p\n",
        "\n",
        "plt.figure(figsize=(12, 10))\n",
        "ax = sns.heatmap(correlations,\n",
        "            annot=True,\n",
        "            fmt=\".2f\",\n",
        "            cmap=\"coolwarm\",\n",
        "            cbar=True,\n",
        "            xticklabels=column_names,\n",
        "            yticklabels=column_names,\n",
        "            mask=np.isnan(correlations), # to not color diagnoal entries\n",
        "            linewidths=0.5,\n",
        "            linecolor='gray')\n",
        "plt.xticks(rotation=45, ha=\"right\", fontsize=10)\n",
        "plt.yticks(fontsize=10)\n",
        "plt.title(\"Correlation Heatmap\", fontsize=14)\n",
        "\n",
        "for i in range(len(column_names)):\n",
        "    for j in range(i+1, len(column_names)):\n",
        "        if i != j and p_values[i, j] < 0.05 and abs(correlations[i, j]) >= 0.7: # i decided this just to focus on the most important correlations\n",
        "            ax.text(j + 0.5, i + 0.85, '*', color='black', ha='center', va='center', fontsize=12) # to control the position of the \"*\"\n",
        "\n",
        "\n",
        "plt.tight_layout()\n",
        "plt.savefig('Correlation Heatmap Prions.jpg', dpi=500)"
      ],
      "metadata": {
        "colab": {
          "base_uri": "https://localhost:8080/",
          "height": 886
        },
        "id": "8Mdtqohr6buu",
        "outputId": "465a04da-e105-4c19-a178-a3f2abca46e5",
        "collapsed": true
      },
      "execution_count": null,
      "outputs": [
        {
          "output_type": "display_data",
          "data": {
            "text/plain": [
              "<Figure size 1200x1000 with 2 Axes>"
            ],
            "image/png": "[encoded data removed]"
          },
          "metadata": {}
        }
      ]
    },
    {
      "cell_type": "markdown",
      "source": [
        "# **Preparing mutant libraries for WALTZ analysis.**"
      ],
      "metadata": {
        "id": "6y8d5XqsC-xL"
      }
    },
    {
      "cell_type": "markdown",
      "source": [
        "# Generating Mutant Sequences"
      ],
      "metadata": {
        "id": "OEpU5C1_sLkh"
      }
    },
    {
      "cell_type": "code",
      "source": [
        "# for mutating amino acids\n",
        "def generate_mutated_sequences(df, from_letter, to_letters, save_dir, split_pos):\n",
        "\n",
        "    if not os.path.exists(save_dir):\n",
        "        os.makedirs(save_dir)\n",
        "\n",
        "    mutated_dfs = {}\n",
        "\n",
        "    for _, row in df.iterrows():\n",
        "        gene_name = row['Gene Name']\n",
        "        prd_seq = row['PrD Protein Sequence']\n",
        "\n",
        "        # find all positions of the source amino acid (to be mutated from)\n",
        "        positions = [i for i, aa in enumerate(prd_seq) if aa == from_letter]\n",
        "\n",
        "        if not positions:  # if letter isn't found, skip\n",
        "            continue\n",
        "\n",
        "        prd_start, _ = map(int, split_pos[gene_name].split('-'))\n",
        "\n",
        "        # initialize list with the original sequence (first line in FASTA file)\n",
        "        mutated_sequences = [{\n",
        "            \"ID\": row[\"ID\"],\n",
        "            \"Gene Name\": gene_name,\n",
        "            \"PrD Protein Sequence\": prd_seq\n",
        "        }]\n",
        "\n",
        "        # generate mutations and group them by position (such that SUP35;P41L is followed by SUP35;P41S, and so on..)\n",
        "        for pos in positions:\n",
        "            for to_letter in to_letters:\n",
        "                new_prd_seq = list(prd_seq) # because lists are mutable, not strings\n",
        "                new_prd_seq[pos] = to_letter\n",
        "                original_position = pos + prd_start\n",
        "                mutation_label = f\"{from_letter}{original_position}{to_letter}\"\n",
        "\n",
        "                mutated_sequences.append({\n",
        "                    \"ID\": row[\"ID\"],\n",
        "                    \"Gene Name\": f\"{gene_name};{mutation_label}\",\n",
        "                    \"PrD Protein Sequence\": \"\".join(new_prd_seq), # convering list back to string\n",
        "                })\n",
        "\n",
        "        mutated_df = pd.DataFrame(mutated_sequences)\n",
        "\n",
        "        fasta_path = os.path.join(save_dir, f\"{gene_name}.fasta\")\n",
        "        with open(fasta_path, 'w') as fasta_file:\n",
        "            for _, row in mutated_df.iterrows():\n",
        "                fasta_file.write(f\">{row['Gene Name']}\\n{row['PrD Protein Sequence']}\\n\")\n",
        "\n",
        "        mutated_dfs[gene_name] = mutated_df\n",
        "\n",
        "    return mutated_dfs"
      ],
      "metadata": {
        "id": "iscX4dk3KWOM"
      },
      "execution_count": null,
      "outputs": []
    },
    {
      "cell_type": "code",
      "source": [
        "# for mutating nucleotides\n",
        "\n",
        "codon_table = CodonTable.unambiguous_dna_by_id[1]\n",
        "stop_codons = {\"TAA\", \"TAG\", \"TGA\"}\n",
        "\n",
        "def mutate_and_translate_dna(dna_seq, mutate_pos, from_nt, to_nt):\n",
        "\n",
        "    mutated_dna = list(dna_seq) # because lists are mutable, not strings\n",
        "    mutated_dna[mutate_pos] = to_nt\n",
        "    mutated_dna_seq = \"\".join(mutated_dna) # convering list back to string\n",
        "\n",
        "    mutated_protein = str(Seq(mutated_dna_seq).translate(to_stop=False, table=codon_table)) # translating the mutated sequence\n",
        "\n",
        "    for i, aa in enumerate(mutated_protein):\n",
        "        if aa == \"*\":  # if a stop codon is found\n",
        "            mutated_protein = mutated_protein[:i]  # truncate just before the stop codon..\n",
        "            break\n",
        "\n",
        "    return mutated_protein\n",
        "\n",
        "def generate_mutated_sequences(df, from_nuc, to_nuc, save_dir, split_pos):\n",
        "\n",
        "    if not os.path.exists(save_dir):\n",
        "        os.makedirs(save_dir)\n",
        "\n",
        "    mutated_dfs = {}\n",
        "\n",
        "    for _, row in df.iterrows():\n",
        "        gene_name = row['Gene Name']\n",
        "        prd_dna_seq = row['Sequence']\n",
        "        prd_prot_seq = row['Protein Sequence']\n",
        "\n",
        "        # find all positions of the source amino acid (to be mutated from)\n",
        "        positions = [i for i, nt in enumerate(prd_dna_seq) if nt == from_nuc]\n",
        "\n",
        "        if not positions:  # if letter isn't found, skip\n",
        "            continue\n",
        "\n",
        "        prd_start, _ = map(int, split_pos[gene_name].split('-'))\n",
        "\n",
        "        # Initialize list with the original sequence (first line in FASTA file)\n",
        "        mutated_sequences = [{\n",
        "            \"ID\": row[\"ID\"],\n",
        "            \"Gene Name\": gene_name,\n",
        "            \"Protein Sequence\": prd_prot_seq\n",
        "        }]\n",
        "\n",
        "        for pos in positions: # for every position the nt to be mutated is found\n",
        "            mutated_protein = mutate_and_translate_dna(prd_dna_seq, pos, from_nuc, to_nuc) # applying the mutate_and_translate function coded above to mutate the DNA sequence at that particular position\n",
        "\n",
        "            # Identify affected amino acid\n",
        "            aa_index = pos // 3  # Convert nucleotide index to amino acid index. If a nucleotide is at index 7 (pos 8), that means its floor division is index 2 (aa of pos 3).\n",
        "            if aa_index >= len(prd_prot_seq):  # Safety check just in case truncations and stop codons mess with anything\n",
        "                continue\n",
        "\n",
        "            original_aa = prd_prot_seq[aa_index] # fetch the original amino acid in the protein\n",
        "            mutated_aa = mutated_protein[aa_index] if aa_index < len(mutated_protein) else \"*\" # the mutated amino acid is at the same position as that found in the original protein (codon index), but using the mutated_protein string instead of prd_protein_seq\n",
        "            # if the aa_index for some reason is larger than the length of the mutated protein, it means a truncation happened. In that case, the mutated amino acid is just \"*\"\n",
        "\n",
        "            if original_aa == mutated_aa: # in case it's a synonmous mutation, don't add it to the FASTA file or the mutated_dfs dictionary.\n",
        "                continue\n",
        "\n",
        "            aa_position = aa_index + prd_start  # Adjust based on PrD start so that the position is relative to the full-length protein\n",
        "            mutation_label = f\"{gene_name};{original_aa}{aa_position}{mutated_aa}\" # record the mutated sequence name for FASTA file and WALTZ later\n",
        "\n",
        "            mutated_sequences.append({\n",
        "                \"ID\": row[\"ID\"],\n",
        "                \"Gene Name\": mutation_label,\n",
        "                \"Protein Sequence\": mutated_protein,\n",
        "            })\n",
        "\n",
        "        mutated_df = pd.DataFrame(mutated_sequences)\n",
        "\n",
        "        fasta_path = os.path.join(save_dir, f\"{gene_name}.fasta\")\n",
        "        with open(fasta_path, 'w') as fasta_file:\n",
        "            for _, row in mutated_df.iterrows():\n",
        "              if len(row['Protein Sequence']) < 6:\n",
        "                continue # don't add short sequences to FASTA file\n",
        "              fasta_file.write(f\">{row['Gene Name']}\\n{row['Protein Sequence']}\\n\")\n",
        "\n",
        "        mutated_dfs[gene_name] = mutated_df\n",
        "\n",
        "    return mutated_dfs"
      ],
      "metadata": {
        "id": "wsptL8FUs7JK"
      },
      "execution_count": null,
      "outputs": []
    },
    {
      "cell_type": "code",
      "source": [
        "save_dir = '/content/drive/MyDrive/Lin Chen Rotation/Mutations/WALTZ - Cytosine to Uracil'\n",
        "mutated_dfs = generate_mutated_sequences(prd_sequences, \"C\", \"T\", save_dir, split_positions)"
      ],
      "metadata": {
        "id": "ZtA3s9UPtDeo"
      },
      "execution_count": null,
      "outputs": []
    },
    {
      "cell_type": "code",
      "source": [
        "mutated_dfs['SUP35']"
      ],
      "metadata": {
        "id": "wQPwXYkfkH9k",
        "colab": {
          "base_uri": "https://localhost:8080/",
          "height": 423
        },
        "collapsed": true,
        "outputId": "285f0b06-ad22-46d5-e95a-c8ce81186ce4"
      },
      "execution_count": null,
      "outputs": [
        {
          "output_type": "execute_result",
          "data": {
            "text/plain": [
              "         ID    Gene Name                                   Protein Sequence\n",
              "0   YDR172W        SUP35  MSDSNQGNNQQNYQQYSQNGNQQQGNNRYQGYQAYNAQAQPAGGYY...\n",
              "1   YDR172W    SUP35;S2L  MLDSNQGNNQQNYQQYSQNGNQQQGNNRYQGYQAYNAQAQPAGGYY...\n",
              "2   YDR172W    SUP35;S4L  MSDLNQGNNQQNYQQYSQNGNQQQGNNRYQGYQAYNAQAQPAGGYY...\n",
              "3   YDR172W    SUP35;Q6*                                              MSDSN\n",
              "4   YDR172W   SUP35;Q10*                                          MSDSNQGNN\n",
              "..      ...          ...                                                ...\n",
              "59  YDR172W  SUP35;S125F  MSDSNQGNNQQNYQQYSQNGNQQQGNNRYQGYQAYNAQAQPAGGYY...\n",
              "60  YDR172W  SUP35;Q130*  MSDSNQGNNQQNYQQYSQNGNQQQGNNRYQGYQAYNAQAQPAGGYY...\n",
              "61  YDR172W  SUP35;Q132*  MSDSNQGNNQQNYQQYSQNGNQQQGNNRYQGYQAYNAQAQPAGGYY...\n",
              "62  YDR172W  SUP35;Q133*  MSDSNQGNNQQNYQQYSQNGNQQQGNNRYQGYQAYNAQAQPAGGYY...\n",
              "63  YDR172W  SUP35;Q135*  MSDSNQGNNQQNYQQYSQNGNQQQGNNRYQGYQAYNAQAQPAGGYY...\n",
              "\n",
              "[64 rows x 3 columns]"
            ],
            "text/html": [
              "\n",
              "  <div id=\"df-4190517e-9c26-4081-939f-eeb7db38f268\" class=\"colab-df-container\">\n",
              "    <div>\n",
              "<style scoped>\n",
              "    .dataframe tbody tr th:only-of-type {\n",
              "        vertical-align: middle;\n",
              "    }\n",
              "\n",
              "    .dataframe tbody tr th {\n",
              "        vertical-align: top;\n",
              "    }\n",
              "\n",
              "    .dataframe thead th {\n",
              "        text-align: right;\n",
              "    }\n",
              "</style>\n",
              "<table border=\"1\" class=\"dataframe\">\n",
              "  <thead>\n",
              "    <tr style=\"text-align: right;\">\n",
              "      <th></th>\n",
              "      <th>ID</th>\n",
              "      <th>Gene Name</th>\n",
              "      <th>Protein Sequence</th>\n",
              "    </tr>\n",
              "  </thead>\n",
              "  <tbody>\n",
              "    <tr>\n",
              "      <th>0</th>\n",
              "      <td>YDR172W</td>\n",
              "      <td>SUP35</td>\n",
              "      <td>MSDSNQGNNQQNYQQYSQNGNQQQGNNRYQGYQAYNAQAQPAGGYY...</td>\n",
              "    </tr>\n",
              "    <tr>\n",
              "      <th>1</th>\n",
              "      <td>YDR172W</td>\n",
              "      <td>SUP35;S2L</td>\n",
              "      <td>MLDSNQGNNQQNYQQYSQNGNQQQGNNRYQGYQAYNAQAQPAGGYY...</td>\n",
              "    </tr>\n",
              "    <tr>\n",
              "      <th>2</th>\n",
              "      <td>YDR172W</td>\n",
              "      <td>SUP35;S4L</td>\n",
              "      <td>MSDLNQGNNQQNYQQYSQNGNQQQGNNRYQGYQAYNAQAQPAGGYY...</td>\n",
              "    </tr>\n",
              "    <tr>\n",
              "      <th>3</th>\n",
              "      <td>YDR172W</td>\n",
              "      <td>SUP35;Q6*</td>\n",
              "      <td>MSDSN</td>\n",
              "    </tr>\n",
              "    <tr>\n",
              "      <th>4</th>\n",
              "      <td>YDR172W</td>\n",
              "      <td>SUP35;Q10*</td>\n",
              "      <td>MSDSNQGNN</td>\n",
              "    </tr>\n",
              "    <tr>\n",
              "      <th>...</th>\n",
              "      <td>...</td>\n",
              "      <td>...</td>\n",
              "      <td>...</td>\n",
              "    </tr>\n",
              "    <tr>\n",
              "      <th>59</th>\n",
              "      <td>YDR172W</td>\n",
              "      <td>SUP35;S125F</td>\n",
              "      <td>MSDSNQGNNQQNYQQYSQNGNQQQGNNRYQGYQAYNAQAQPAGGYY...</td>\n",
              "    </tr>\n",
              "    <tr>\n",
              "      <th>60</th>\n",
              "      <td>YDR172W</td>\n",
              "      <td>SUP35;Q130*</td>\n",
              "      <td>MSDSNQGNNQQNYQQYSQNGNQQQGNNRYQGYQAYNAQAQPAGGYY...</td>\n",
              "    </tr>\n",
              "    <tr>\n",
              "      <th>61</th>\n",
              "      <td>YDR172W</td>\n",
              "      <td>SUP35;Q132*</td>\n",
              "      <td>MSDSNQGNNQQNYQQYSQNGNQQQGNNRYQGYQAYNAQAQPAGGYY...</td>\n",
              "    </tr>\n",
              "    <tr>\n",
              "      <th>62</th>\n",
              "      <td>YDR172W</td>\n",
              "      <td>SUP35;Q133*</td>\n",
              "      <td>MSDSNQGNNQQNYQQYSQNGNQQQGNNRYQGYQAYNAQAQPAGGYY...</td>\n",
              "    </tr>\n",
              "    <tr>\n",
              "      <th>63</th>\n",
              "      <td>YDR172W</td>\n",
              "      <td>SUP35;Q135*</td>\n",
              "      <td>MSDSNQGNNQQNYQQYSQNGNQQQGNNRYQGYQAYNAQAQPAGGYY...</td>\n",
              "    </tr>\n",
              "  </tbody>\n",
              "</table>\n",
              "<p>64 rows × 3 columns</p>\n",
              "</div>\n",
              "    <div class=\"colab-df-buttons\">\n",
              "\n",
              "  <div class=\"colab-df-container\">\n",
              "    <button class=\"colab-df-convert\" onclick=\"convertToInteractive('df-4190517e-9c26-4081-939f-eeb7db38f268')\"\n",
              "            title=\"Convert this dataframe to an interactive table.\"\n",
              "            style=\"display:none;\">\n",
              "\n",
              "  <svg xmlns=\"http://www.w3.org/2000/svg\" height=\"24px\" viewBox=\"0 -960 960 960\">\n",
              "    <path d=\"M120-120v-720h720v720H120Zm60-500h600v-160H180v160Zm220 220h160v-160H400v160Zm0 220h160v-160H400v160ZM180-400h160v-160H180v160Zm440 0h160v-160H620v160ZM180-180h160v-160H180v160Zm440 0h160v-160H620v160Z\"/>\n",
              "  </svg>\n",
              "    </button>\n",
              "\n",
              "  <style>\n",
              "    .colab-df-container {\n",
              "      display:flex;\n",
              "      gap: 12px;\n",
              "    }\n",
              "\n",
              "    .colab-df-convert {\n",
              "      background-color: #E8F0FE;\n",
              "      border: none;\n",
              "      border-radius: 50%;\n",
              "      cursor: pointer;\n",
              "      display: none;\n",
              "      fill: #1967D2;\n",
              "      height: 32px;\n",
              "      padding: 0 0 0 0;\n",
              "      width: 32px;\n",
              "    }\n",
              "\n",
              "    .colab-df-convert:hover {\n",
              "      background-color: #E2EBFA;\n",
              "      box-shadow: 0px 1px 2px rgba(60, 64, 67, 0.3), 0px 1px 3px 1px rgba(60, 64, 67, 0.15);\n",
              "      fill: #174EA6;\n",
              "    }\n",
              "\n",
              "    .colab-df-buttons div {\n",
              "      margin-bottom: 4px;\n",
              "    }\n",
              "\n",
              "    [theme=dark] .colab-df-convert {\n",
              "      background-color: #3B4455;\n",
              "      fill: #D2E3FC;\n",
              "    }\n",
              "\n",
              "    [theme=dark] .colab-df-convert:hover {\n",
              "      background-color: #434B5C;\n",
              "      box-shadow: 0px 1px 3px 1px rgba(0, 0, 0, 0.15);\n",
              "      filter: drop-shadow(0px 1px 2px rgba(0, 0, 0, 0.3));\n",
              "      fill: #FFFFFF;\n",
              "    }\n",
              "  </style>\n",
              "\n",
              "    <script>\n",
              "      const buttonEl =\n",
              "        document.querySelector('#df-4190517e-9c26-4081-939f-eeb7db38f268 button.colab-df-convert');\n",
              "      buttonEl.style.display =\n",
              "        google.colab.kernel.accessAllowed ? 'block' : 'none';\n",
              "\n",
              "      async function convertToInteractive(key) {\n",
              "        const element = document.querySelector('#df-4190517e-9c26-4081-939f-eeb7db38f268');\n",
              "        const dataTable =\n",
              "          await google.colab.kernel.invokeFunction('convertToInteractive',\n",
              "                                                    [key], {});\n",
              "        if (!dataTable) return;\n",
              "\n",
              "        const docLinkHtml = 'Like what you see? Visit the ' +\n",
              "          '<a target=\"_blank\" href=https://colab.research.google.com/notebooks/data_table.ipynb>data table notebook</a>'\n",
              "          + ' to learn more about interactive tables.';\n",
              "        element.innerHTML = '';\n",
              "        dataTable['output_type'] = 'display_data';\n",
              "        await google.colab.output.renderOutput(dataTable, element);\n",
              "        const docLink = document.createElement('div');\n",
              "        docLink.innerHTML = docLinkHtml;\n",
              "        element.appendChild(docLink);\n",
              "      }\n",
              "    </script>\n",
              "  </div>\n",
              "\n",
              "\n",
              "<div id=\"df-58c304f4-fa36-435e-a4d3-206713c5be26\">\n",
              "  <button class=\"colab-df-quickchart\" onclick=\"quickchart('df-58c304f4-fa36-435e-a4d3-206713c5be26')\"\n",
              "            title=\"Suggest charts\"\n",
              "            style=\"display:none;\">\n",
              "\n",
              "<svg xmlns=\"http://www.w3.org/2000/svg\" height=\"24px\"viewBox=\"0 0 24 24\"\n",
              "     width=\"24px\">\n",
              "    <g>\n",
              "        <path d=\"M19 3H5c-1.1 0-2 .9-2 2v14c0 1.1.9 2 2 2h14c1.1 0 2-.9 2-2V5c0-1.1-.9-2-2-2zM9 17H7v-7h2v7zm4 0h-2V7h2v10zm4 0h-2v-4h2v4z\"/>\n",
              "    </g>\n",
              "</svg>\n",
              "  </button>\n",
              "\n",
              "<style>\n",
              "  .colab-df-quickchart {\n",
              "      --bg-color: #E8F0FE;\n",
              "      --fill-color: #1967D2;\n",
              "      --hover-bg-color: #E2EBFA;\n",
              "      --hover-fill-color: #174EA6;\n",
              "      --disabled-fill-color: #AAA;\n",
              "      --disabled-bg-color: #DDD;\n",
              "  }\n",
              "\n",
              "  [theme=dark] .colab-df-quickchart {\n",
              "      --bg-color: #3B4455;\n",
              "      --fill-color: #D2E3FC;\n",
              "      --hover-bg-color: #434B5C;\n",
              "      --hover-fill-color: #FFFFFF;\n",
              "      --disabled-bg-color: #3B4455;\n",
              "      --disabled-fill-color: #666;\n",
              "  }\n",
              "\n",
              "  .colab-df-quickchart {\n",
              "    background-color: var(--bg-color);\n",
              "    border: none;\n",
              "    border-radius: 50%;\n",
              "    cursor: pointer;\n",
              "    display: none;\n",
              "    fill: var(--fill-color);\n",
              "    height: 32px;\n",
              "    padding: 0;\n",
              "    width: 32px;\n",
              "  }\n",
              "\n",
              "  .colab-df-quickchart:hover {\n",
              "    background-color: var(--hover-bg-color);\n",
              "    box-shadow: 0 1px 2px rgba(60, 64, 67, 0.3), 0 1px 3px 1px rgba(60, 64, 67, 0.15);\n",
              "    fill: var(--button-hover-fill-color);\n",
              "  }\n",
              "\n",
              "  .colab-df-quickchart-complete:disabled,\n",
              "  .colab-df-quickchart-complete:disabled:hover {\n",
              "    background-color: var(--disabled-bg-color);\n",
              "    fill: var(--disabled-fill-color);\n",
              "    box-shadow: none;\n",
              "  }\n",
              "\n",
              "  .colab-df-spinner {\n",
              "    border: 2px solid var(--fill-color);\n",
              "    border-color: transparent;\n",
              "    border-bottom-color: var(--fill-color);\n",
              "    animation:\n",
              "      spin 1s steps(1) infinite;\n",
              "  }\n",
              "\n",
              "  @keyframes spin {\n",
              "    0% {\n",
              "      border-color: transparent;\n",
              "      border-bottom-color: var(--fill-color);\n",
              "      border-left-color: var(--fill-color);\n",
              "    }\n",
              "    20% {\n",
              "      border-color: transparent;\n",
              "      border-left-color: var(--fill-color);\n",
              "      border-top-color: var(--fill-color);\n",
              "    }\n",
              "    30% {\n",
              "      border-color: transparent;\n",
              "      border-left-color: var(--fill-color);\n",
              "      border-top-color: var(--fill-color);\n",
              "      border-right-color: var(--fill-color);\n",
              "    }\n",
              "    40% {\n",
              "      border-color: transparent;\n",
              "      border-right-color: var(--fill-color);\n",
              "      border-top-color: var(--fill-color);\n",
              "    }\n",
              "    60% {\n",
              "      border-color: transparent;\n",
              "      border-right-color: var(--fill-color);\n",
              "    }\n",
              "    80% {\n",
              "      border-color: transparent;\n",
              "      border-right-color: var(--fill-color);\n",
              "      border-bottom-color: var(--fill-color);\n",
              "    }\n",
              "    90% {\n",
              "      border-color: transparent;\n",
              "      border-bottom-color: var(--fill-color);\n",
              "    }\n",
              "  }\n",
              "</style>\n",
              "\n",
              "  <script>\n",
              "    async function quickchart(key) {\n",
              "      const quickchartButtonEl =\n",
              "        document.querySelector('#' + key + ' button');\n",
              "      quickchartButtonEl.disabled = true;  // To prevent multiple clicks.\n",
              "      quickchartButtonEl.classList.add('colab-df-spinner');\n",
              "      try {\n",
              "        const charts = await google.colab.kernel.invokeFunction(\n",
              "            'suggestCharts', [key], {});\n",
              "      } catch (error) {\n",
              "        console.error('Error during call to suggestCharts:', error);\n",
              "      }\n",
              "      quickchartButtonEl.classList.remove('colab-df-spinner');\n",
              "      quickchartButtonEl.classList.add('colab-df-quickchart-complete');\n",
              "    }\n",
              "    (() => {\n",
              "      let quickchartButtonEl =\n",
              "        document.querySelector('#df-58c304f4-fa36-435e-a4d3-206713c5be26 button');\n",
              "      quickchartButtonEl.style.display =\n",
              "        google.colab.kernel.accessAllowed ? 'block' : 'none';\n",
              "    })();\n",
              "  </script>\n",
              "</div>\n",
              "\n",
              "    </div>\n",
              "  </div>\n"
            ],
            "application/vnd.google.colaboratory.intrinsic+json": {
              "type": "dataframe",
              "summary": "{\n  \"name\": \"mutated_dfs['SUP35']\",\n  \"rows\": 64,\n  \"fields\": [\n    {\n      \"column\": \"ID\",\n      \"properties\": {\n        \"dtype\": \"category\",\n        \"num_unique_values\": 1,\n        \"samples\": [\n          \"YDR172W\"\n        ],\n        \"semantic_type\": \"\",\n        \"description\": \"\"\n      }\n    },\n    {\n      \"column\": \"Gene Name\",\n      \"properties\": {\n        \"dtype\": \"string\",\n        \"num_unique_values\": 64,\n        \"samples\": [\n          \"SUP35;A115V\"\n        ],\n        \"semantic_type\": \"\",\n        \"description\": \"\"\n      }\n    },\n    {\n      \"column\": \"Protein Sequence\",\n      \"properties\": {\n        \"dtype\": \"string\",\n        \"num_unique_values\": 64,\n        \"samples\": [\n          \"MSDSNQGNNQQNYQQYSQNGNQQQGNNRYQGYQAYNAQAQPAGGYYQNYQGYSGYQQGGYQQYNPDAGYQQQYNPQGGYQQYNPQGGYQQQFNPQGGRGNYKNFNYNNNLQGYQVGFQPQSQGMSLNDFQKQQKQ\"\n        ],\n        \"semantic_type\": \"\",\n        \"description\": \"\"\n      }\n    }\n  ]\n}"
            }
          },
          "metadata": {},
          "execution_count": 79
        }
      ]
    },
    {
      "cell_type": "markdown",
      "source": [
        "# Analyzing WALTZ Results (C->U Mutations)"
      ],
      "metadata": {
        "id": "ImIRI2AFVHmT"
      }
    },
    {
      "cell_type": "code",
      "source": [
        "import matplotlib.pyplot as plt\n",
        "from collections import Counter\n",
        "import re\n",
        "\n",
        "# Raw mutation data (written by me in this format)\n",
        "mutation_data = \"\"\"\n",
        "CYC8 (206 mutations)\n",
        "P476L, H537Y, P613L, P613S, H624Y, P628L\n",
        "\n",
        "GLN3 (33 mutations)\n",
        "P184S, P184L, S190F, P197S, P197L, T205I, H211Y, T231I\n",
        "\n",
        "MOD5 (8 mutations)\n",
        "T201I\n",
        "\n",
        "MOT3 (165 mutations)\n",
        "H36Y, T45I, P57L, S74F, P115L, S130F, S132F, H159Y, T260I\n",
        "\n",
        "NEW1 (66 mutations)\n",
        "S11F, S25F\n",
        "\n",
        "PIN2 (23 mutations)\n",
        "P224L, L246F, S269L\n",
        "\n",
        "PUB1 (54 mutations)\n",
        "S315F, T342I, A343V, P349S, P349L, P359S, P359L, H372Y\n",
        "\n",
        "RNQ1 (121 mutations)\n",
        "S173F, S183F, S187F, S209F, S213F, S223F, S233F, S276F, S334F, S340F, S380F, S386F, S390F\n",
        "\n",
        "SFP1 (115 mutations)\n",
        "S257F, A258V, T291I, S308F, S329L, S331F, H334Y, S361F, H380Y, S451F\n",
        "\n",
        "SKY1 (42 mutations)\n",
        "S397L\n",
        "\n",
        "SUP35 (62 mutations)\n",
        "P75L\n",
        "\n",
        "SWI1 (139 mutations)\n",
        "T27I, T32I, T58I, S108F, P141L, T154I, P161L, S212F, P238S, P238L, H288Y\n",
        "\n",
        "URE2 (25 mutations)\n",
        "L12F, S13F\n",
        "\"\"\"\n",
        "\n",
        "# extract all mutations using regex\n",
        "mutation_list = re.findall(r'([A-Z])\\d+([A-Z])', mutation_data)\n",
        "\n",
        "# count occurrences of each mutation type (e.g., S->F, T->I) using the Counter package to count hashable items\n",
        "mutation_counts = Counter(f\"{orig}->{mut}\" for orig, mut in mutation_list)\n",
        "\n",
        "# sort by count in descending order\n",
        "sorted_mutations = sorted(mutation_counts.items(), key=lambda x: x[1], reverse=True)\n",
        "mutation_types, frequencies = zip(*sorted_mutations) # separate the mutation types from the numbers\n",
        "\n",
        "plt.figure(figsize=(12, 6))\n",
        "plt.bar(mutation_types, frequencies, color=\"royalblue\", edgecolor=\"black\")\n",
        "plt.xlabel(\"Mutation Type\", fontsize=12)\n",
        "plt.ylabel(\"Frequency\", fontsize=12)\n",
        "plt.xticks(rotation=45, ha=\"right\")\n",
        "plt.title(\"Frequency of Mutation Types (C->U)\", fontsize=14)\n",
        "plt.grid(axis=\"y\", linestyle=\"--\", alpha=0.7)\n",
        "# plt.show()\n",
        "plt.savefig('Frequency of Mutation Types.jpg', dpi=500)"
      ],
      "metadata": {
        "colab": {
          "base_uri": "https://localhost:8080/",
          "height": 610
        },
        "collapsed": true,
        "id": "PNMOu772VNk5",
        "outputId": "31098420-f417-4015-b51a-aa3f412e1a72"
      },
      "execution_count": null,
      "outputs": [
        {
          "output_type": "display_data",
          "data": {
            "text/plain": [
              "<Figure size 1200x600 with 1 Axes>"
            ],
            "image/png": "[encoded data removed]"
          },
          "metadata": {}
        }
      ]
    },
    {
      "cell_type": "code",
      "source": [
        "import matplotlib.pyplot as plt\n",
        "from collections import Counter\n",
        "import re\n",
        "\n",
        "\n",
        "mutation_data = \"\"\"\n",
        "CYC8 (71 mutations)\n",
        "V679I --> 1 hit\n",
        "\n",
        "GLN3 (13 mutations)\n",
        "M228I --> 1 hit\n",
        "\n",
        "MOD5 (5 mutations)\n",
        "0 hits\n",
        "\n",
        "MOT3 (80 mutations)\n",
        "G49S, S97N, M111I, D133N, M169I, M196I --> 6 hits\n",
        "\n",
        "NEW1 (48 mutations)\n",
        "G96D, G98S --> 2 hits\n",
        "\n",
        "PIN2 (18 mutations)\n",
        "D227N, D230N, S250N --> 3 hits\n",
        "\n",
        "PUB1 (42 mutations)\n",
        "D396N, C379Y --> 2 hits\n",
        "\n",
        "RNQ1 (115 mutations)\n",
        "M185I, G229S, G305D, E385K --> 4 hits\n",
        "\n",
        "SFP1 (73 mutations)\n",
        "M266I, M304I, S418N, G419D, M434I --> 5 hits\n",
        "\n",
        "SKY1 (53 mutations)\n",
        "M403I, S432N, D489N --> 3 hits\n",
        "\n",
        "SUP35 (56 mutations)\n",
        "S17N, G20S, A37T, G43D, G44E, G54R, G54E, G58S, G59S, G112E --> 10 hits\n",
        "\n",
        "SWI1 (86 mutations)\n",
        "D2N, D172N, V201I, S214N --> 4 hits\n",
        "\n",
        "URE2 (33 mutations)\n",
        "G22E, G42S, G42D --> 3 hits\n",
        "\"\"\"\n",
        "\n",
        "\n",
        "mutation_list = re.findall(r'([A-Z])\\d+([A-Z])', mutation_data)\n",
        "\n",
        "mutation_counts = Counter(f\"{orig}->{mut}\" for orig, mut in mutation_list)\n",
        "\n",
        "sorted_mutations = sorted(mutation_counts.items(), key=lambda x: x[1], reverse=True)\n",
        "mutation_types, frequencies = zip(*sorted_mutations)\n",
        "\n",
        "plt.figure(figsize=(12, 6))\n",
        "plt.bar(mutation_types, frequencies, color=\"royalblue\", edgecolor=\"black\")\n",
        "plt.xlabel(\"Mutation Type\", fontsize=12)\n",
        "plt.ylabel(\"Frequency\", fontsize=12)\n",
        "plt.xticks(rotation=45, ha=\"right\")\n",
        "plt.title(\"Frequency of Mutation Types (G->A)\", fontsize=14)\n",
        "plt.grid(axis=\"y\", linestyle=\"--\", alpha=0.7)\n",
        "# plt.show()\n",
        "plt.savefig('Frequency of Mutation Types.jpg', dpi=500)"
      ],
      "metadata": {
        "colab": {
          "base_uri": "https://localhost:8080/",
          "height": 612
        },
        "collapsed": true,
        "id": "TdlCoHI8WRcv",
        "outputId": "2d1b12fa-cd08-449a-f728-9963813580db"
      },
      "execution_count": null,
      "outputs": [
        {
          "output_type": "display_data",
          "data": {
            "text/plain": [
              "<Figure size 1200x600 with 1 Axes>"
            ],
            "image/png": "[encoded data removed]"
          },
          "metadata": {}
        }
      ]
    },
    {
      "cell_type": "code",
      "source": [
        "import re\n",
        "import matplotlib.pyplot as plt\n",
        "from collections import defaultdict, Counter\n",
        "from matplotlib.lines import Line2D\n",
        "\n",
        "mutation_data = \"\"\"\n",
        "CYC8 (206 mutations)\n",
        "P476L, H537Y, P613L, P613S, H624Y, P628L --> 6 hits\n",
        "\n",
        "GLN3 (33 mutations)\n",
        "P184S, P184L, S190F, P197S, P197L, T205I, H211Y, T231I --> 8 hits\n",
        "\n",
        "MOD5 (8 mutations)\n",
        "T201I --> 1 hit\n",
        "\n",
        "MOT3 (165 mutations)\n",
        "H36Y, T45I, P57L, S74F, P115L, S130F, S132F, H159Y, T260I --> 9 hits\n",
        "\n",
        "NEW1 (66 mutations)\n",
        "S11F, S25F --> 2 hits\n",
        "\n",
        "PIN2 (23 mutations)\n",
        "P224L, L246F, S269L --> 3 hits\n",
        "\n",
        "PUB1 (54 mutations)\n",
        "S315F, T342I, A343V, P349S, P349L, P359S, P359L, H372Y --> 8 hits\n",
        "\n",
        "RNQ1 (121 mutations)\n",
        "S173F, S183F, S187F, S209F, S213F, S223F, S233F, S276F, S334F, S340F, S380F, S386F, S390F --> 13 hits\n",
        "\n",
        "SFP1 (115 mutations)\n",
        "S257F, A258V, T291I, S308F, S329L, S331F, H334Y, S361F, H380Y, S451F --> 10 hits\n",
        "\n",
        "SKY1 (42 mutations)\n",
        "S397L --> 1 hit\n",
        "\n",
        "SUP35 (62 mutations)\n",
        "P75L --> 1 hit\n",
        "\n",
        "SWI1 (139 mutations)\n",
        "T27I, T32I, T58I, S108F, P141L, T154I, P161L, S212F, P238S, P238L, H288Y --> 11 hits\n",
        "\n",
        "URE2 (25 mutations)\n",
        "L12F, S13F --> 2 hits\n",
        "\n",
        "\"\"\"\n",
        "\n",
        "# parse mutations and positions\n",
        "mutations_by_gene = defaultdict(list) # makes a dictionary where the key is going to be the gene name and the value is a list of mutation positions (not types)\n",
        "gene_name = None # initializing variable to store gene names\n",
        "position_mutation_counts = defaultdict(lambda: defaultdict(int))\n",
        "\n",
        "# parsing mutation data\n",
        "for line in mutation_data.split(\"\\n\"):\n",
        "    line = line.strip() # looping over every line in the structure I wrote\n",
        "\n",
        "    if not line: # if the line is empty (white space or something)\n",
        "        continue\n",
        "\n",
        "    # get the gene name if the line contains a gene name (\"CYC8 (206 mutations)\") and so on... in the regex format below\n",
        "    match = re.match(r\"(\\w+)\\s+\\(\\d+\\s+mutations\\)\", line) # regex to get gene name based on the data structure I've written\n",
        "    if match:\n",
        "        gene_name = match.group(1) # if the line does contain a gene name, put it in the gene_name variable which was declared above\n",
        "        continue\n",
        "\n",
        "    # if the line contains mutations\n",
        "    if \"-->\" in line:\n",
        "        mutations = line.split(\"-->\")[0].strip().split(\", \") # for example, S11F, S25F --> 2 hits will get S11F and S25F\n",
        "        for mut in mutations: # for each one of those mutations\n",
        "            match = re.match(r\"([A-Z])(\\d+)([A-Z])\", mut)  # extract the position based on a regex\n",
        "            if match:\n",
        "              orig, pos, new = match.groups()\n",
        "              pos = int(pos)  # get the position (11, 25, etc.)\n",
        "              mutations_by_gene[gene_name].append(pos) # append these positions to the gene_name found earlier\n",
        "              position_mutation_counts[gene_name][pos] += 1 # count mutations at each position (either will be 1 or 2 since I haven't found any positions to have 3 different mutational possibilities to increase WALTZ score)\n",
        "\n",
        "# count co-occurring mutations (within a window of 10-amino acids) and prepare for visualization\n",
        "total_mutations = 0\n",
        "isolated_mutations = 0\n",
        "clustered_mutations = 0\n",
        "multiple_mutations = 0\n",
        "\n",
        "all_positions = []\n",
        "all_colors = []\n",
        "all_markers = []\n",
        "all_gene_labels = []\n",
        "\n",
        "for gene, positions in mutations_by_gene.items():\n",
        "    if not positions:\n",
        "        continue\n",
        "\n",
        "    positions.sort()\n",
        "    clustered_positions = set()\n",
        "\n",
        "    for i, pos in enumerate(positions):\n",
        "        is_clustered = any(abs(pos - other_pos) <= 10 for other_pos in positions if pos != other_pos)\n",
        "\n",
        "        marker = \"o\"\n",
        "        color = \"blue\"\n",
        "\n",
        "        if position_mutation_counts[gene][pos] > 1:\n",
        "            marker = \"X\"\n",
        "            color = \"green\"\n",
        "            multiple_mutations += 1\n",
        "        elif is_clustered:\n",
        "            marker = \"o\"\n",
        "            color = \"red\"\n",
        "            clustered_mutations += 1\n",
        "            clustered_positions.add(pos)\n",
        "        else:\n",
        "            isolated_mutations += 1\n",
        "\n",
        "        all_positions.append(pos)\n",
        "        all_gene_labels.append(gene)\n",
        "        all_markers.append(marker)\n",
        "        all_colors.append(color)\n",
        "\n",
        "    total_mutations += len(positions)\n",
        "\n",
        "plt.figure(figsize=(10, 6))\n",
        "\n",
        "for pos, gene, color, marker in zip(all_positions, all_gene_labels, all_colors, all_markers):\n",
        "    plt.scatter(pos, gene, c=color, alpha=0.7, edgecolors=\"black\", marker=marker, s=100)\n",
        "\n",
        "plt.xlabel(\"Mutation Position\")\n",
        "plt.ylabel(\"Gene Name\")\n",
        "plt.title(f\"Clustered C->U Mutations in a ±10-AA Window\\n{total_mutations} Total Hit Mutations\")\n",
        "\n",
        "legend_elements = [\n",
        "    Line2D([0], [0], marker='o', color='w', label=f'Clustered Mutation ({clustered_mutations})', markerfacecolor='red', markersize=8),\n",
        "    Line2D([0], [0], marker='o', color='w', label=f'Isolated Mutation ({isolated_mutations})', markerfacecolor='blue', markersize=8),\n",
        "    Line2D([0], [0], marker='X', color='w', label=f'Multiple Mutations at Same Position ({multiple_mutations})', markerfacecolor='green', markersize=8)\n",
        "]\n",
        "plt.legend(handles=legend_elements)\n",
        "\n",
        "# plt.show()\n",
        "plt.savefig('Clustered C->U Mutations.jpg', dpi=500)"
      ],
      "metadata": {
        "colab": {
          "base_uri": "https://localhost:8080/",
          "height": 585
        },
        "id": "D41mzI-AAWUW",
        "outputId": "b83d4f3b-59c9-429d-c0e5-21c0c1ec8a1e"
      },
      "execution_count": 28,
      "outputs": [
        {
          "output_type": "display_data",
          "data": {
            "text/plain": [
              "<Figure size 1000x600 with 1 Axes>"
            ],
            "image/png": "[encoded data removed]"
          },
          "metadata": {}
        }
      ]
    },
    {
      "cell_type": "code",
      "source": [
        "import re\n",
        "import matplotlib.pyplot as plt\n",
        "from collections import defaultdict, Counter\n",
        "from matplotlib.lines import Line2D\n",
        "\n",
        "mutation_data = \"\"\"\n",
        "CYC8 (71 mutations)\n",
        "V679I --> 1 hit\n",
        "\n",
        "GLN3 (13 mutations)\n",
        "M228I --> 1 hit\n",
        "\n",
        "MOD5 (5 mutations)\n",
        "0 hits\n",
        "\n",
        "MOT3 (80 mutations)\n",
        "G49S, S97N, M111I, D133N, M169I, M196I --> 6 hits\n",
        "\n",
        "NEW1 (48 mutations)\n",
        "G96D, G98S --> 2 hits\n",
        "\n",
        "PIN2 (18 mutations)\n",
        "D227N, D230N, S250N --> 3 hits\n",
        "\n",
        "PUB1 (42 mutations)\n",
        "D369N, C379Y --> 2 hits\n",
        "\n",
        "RNQ1 (115 mutations)\n",
        "M185I, G229S, G305D, E385K --> 4 hits\n",
        "\n",
        "SFP1 (73 mutations)\n",
        "M266I, M304I, S418N, G419D, M434I --> 5 hits\n",
        "\n",
        "SKY1 (53 mutations)\n",
        "M403I, S432N, D489N --> 3 hits\n",
        "\n",
        "SUP35 (56 mutations)\n",
        "S17N, G20S, A37T, G43D, G44E, G54R, G54E, G58S, G59S, G112E --> 10 hits\n",
        "\n",
        "SWI1 (86 mutations)\n",
        "D2N, D172N, V201I, S214N --> 4 hits\n",
        "\n",
        "URE2 (33 mutations)\n",
        "G22E, G42S, G42D --> 3 hits\n",
        "\n",
        "\"\"\"\n",
        "\n",
        "# parse mutations and positions\n",
        "mutations_by_gene = defaultdict(list) # makes a dictionary where the key is going to be the gene name and the value is a list of mutation positions (not types)\n",
        "gene_name = None # initializing variable to store gene names\n",
        "position_mutation_counts = defaultdict(lambda: defaultdict(int))\n",
        "\n",
        "# parsing mutation data\n",
        "for line in mutation_data.split(\"\\n\"):\n",
        "    line = line.strip() # looping over every line in the structure I wrote\n",
        "\n",
        "    if not line: # if the line is empty (white space or something)\n",
        "        continue\n",
        "\n",
        "    # get the gene name if the line contains a gene name (\"CYC8 (206 mutations)\") and so on... in the regex format below\n",
        "    match = re.match(r\"(\\w+)\\s+\\(\\d+\\s+mutations\\)\", line) # regex to get gene name based on the data structure I've written\n",
        "    if match:\n",
        "        gene_name = match.group(1) # if the line does contain a gene name, put it in the gene_name variable which was declared above\n",
        "        continue\n",
        "\n",
        "    # if the line contains mutations\n",
        "    if \"-->\" in line:\n",
        "        mutations = line.split(\"-->\")[0].strip().split(\", \") # for example, S11F, S25F --> 2 hits will get S11F and S25F\n",
        "        for mut in mutations: # for each one of those mutations\n",
        "            match = re.match(r\"([A-Z])(\\d+)([A-Z])\", mut)  # extract the position based on a regex\n",
        "            if match:\n",
        "              orig, pos, new = match.groups()\n",
        "              pos = int(pos)  # get the position (11, 25, etc.)\n",
        "              mutations_by_gene[gene_name].append(pos) # append these positions to the gene_name found earlier\n",
        "              position_mutation_counts[gene_name][pos] += 1 # count mutations at each position (either will be 1 or 2 since I haven't found any positions to have 3 different mutational possibilities to increase WALTZ score)\n",
        "\n",
        "# count co-occurring mutations (within a window of 10-amino acids) and prepare for visualization\n",
        "total_mutations = 0\n",
        "isolated_mutations = 0\n",
        "clustered_mutations = 0\n",
        "multiple_mutations = 0\n",
        "\n",
        "all_positions = []\n",
        "all_colors = []\n",
        "all_markers = []\n",
        "all_gene_labels = []\n",
        "\n",
        "for gene, positions in mutations_by_gene.items():\n",
        "    if not positions:\n",
        "        continue\n",
        "\n",
        "    positions.sort()\n",
        "    clustered_positions = set()\n",
        "\n",
        "    for i, pos in enumerate(positions):\n",
        "        is_clustered = any(abs(pos - other_pos) <= 10 for other_pos in positions if pos != other_pos)\n",
        "\n",
        "        marker = \"o\"\n",
        "        color = \"blue\"\n",
        "\n",
        "        if position_mutation_counts[gene][pos] > 1:\n",
        "            marker = \"X\"\n",
        "            color = \"green\"\n",
        "            multiple_mutations += 1\n",
        "        elif is_clustered:\n",
        "            marker = \"o\"\n",
        "            color = \"red\"\n",
        "            clustered_mutations += 1\n",
        "            clustered_positions.add(pos)\n",
        "        else:\n",
        "            isolated_mutations += 1\n",
        "\n",
        "        all_positions.append(pos)\n",
        "        all_gene_labels.append(gene)\n",
        "        all_markers.append(marker)\n",
        "        all_colors.append(color)\n",
        "\n",
        "    total_mutations += len(positions)\n",
        "\n",
        "plt.figure(figsize=(10, 6))\n",
        "\n",
        "for pos, gene, color, marker in zip(all_positions, all_gene_labels, all_colors, all_markers):\n",
        "    plt.scatter(pos, gene, c=color, alpha=0.7, edgecolors=\"black\", marker=marker, s=100)\n",
        "\n",
        "plt.xlabel(\"Mutation Position\")\n",
        "plt.ylabel(\"Gene Name\")\n",
        "plt.title(f\"Clustered G->A Mutations in a ±10-AA Window\\n{total_mutations} Total Hit Mutations\")\n",
        "\n",
        "legend_elements = [\n",
        "    Line2D([0], [0], marker='o', color='w', label=f'Clustered Mutation ({clustered_mutations})', markerfacecolor='red', markersize=8),\n",
        "    Line2D([0], [0], marker='o', color='w', label=f'Isolated Mutation ({isolated_mutations})', markerfacecolor='blue', markersize=8),\n",
        "    Line2D([0], [0], marker='X', color='w', label=f'Multiple Mutations at Same Position ({multiple_mutations})', markerfacecolor='green', markersize=8)\n",
        "]\n",
        "plt.legend(handles=legend_elements)\n",
        "\n",
        "# plt.show()\n",
        "plt.savefig('Clustered G->A Mutations.jpg', dpi=500)"
      ],
      "metadata": {
        "colab": {
          "base_uri": "https://localhost:8080/",
          "height": 585
        },
        "id": "pZhGf-jralYv",
        "outputId": "f6f72794-2f90-44dc-9a02-b081f068022a"
      },
      "execution_count": 29,
      "outputs": [
        {
          "output_type": "display_data",
          "data": {
            "text/plain": [
              "<Figure size 1000x600 with 1 Axes>"
            ],
            "image/png": "[encoded data removed]"
          },
          "metadata": {}
        }
      ]
    }
  ]
}